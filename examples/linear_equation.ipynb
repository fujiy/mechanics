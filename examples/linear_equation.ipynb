{
 "cells": [
  {
   "cell_type": "code",
   "execution_count": 2,
   "id": "9cb28e4d",
   "metadata": {},
   "outputs": [],
   "source": [
    "%reset -f\n",
    "%load_ext autoreload\n",
    "%autoreload 2"
   ]
  },
  {
   "cell_type": "code",
   "execution_count": 3,
   "id": "cca9fcf4",
   "metadata": {},
   "outputs": [
    {
     "name": "stdout",
     "output_type": "stream",
     "text": [
      "A.shape = (5, 5), non zero = 12, rank = 5\n",
      "[[ 4  0  0  0  4]\n",
      " [ 0 -5  5 -4  3]\n",
      " [ 0  0  5  0  0]\n",
      " [-1  5 -3 -3  0]\n",
      " [ 0  0  0  0 -3]]\n",
      "[ 1  3  0  0 -1]\n"
     ]
    }
   ],
   "source": [
    "import numpy as np\n",
    "from scipy.sparse import lil_matrix\n",
    "\n",
    "\n",
    "def generate_full_rank_sparse_integer_system(N, density=0.01, value_range=(-10, 10), random_state=None):\n",
    "    \"\"\"\n",
    "    フルランクなスパース整数連立一次方程式 Ax = b を生成する。\n",
    "    \n",
    "    N: 変数（=行数=列数）\n",
    "    density: 全体に占める非ゼロ要素割合\n",
    "    value_range: 非ゼロ整数値の範囲（例：(-5, 5)）\n",
    "    \"\"\"\n",
    "    if random_state is not None:\n",
    "        np.random.seed(random_state)\n",
    "\n",
    "    A = lil_matrix((N, N), dtype=int)\n",
    "\n",
    "    # ステップ1: 各行に1つ以上の非ゼロ（対角線に1を置くことでrankを確保）\n",
    "    for i in range(N):\n",
    "        val = 0\n",
    "        while val == 0:\n",
    "            val = np.random.randint(value_range[0], value_range[1] + 1)\n",
    "        A[i, i] = val\n",
    "\n",
    "    # ステップ2: ランダムな位置に追加で非ゼロ整数を入れる（スパース性の調整）\n",
    "    total_nonzeros_target = int(N * N * density)\n",
    "    current_nonzeros = N  # すでに対角にN個ある\n",
    "    while current_nonzeros < total_nonzeros_target:\n",
    "        i = np.random.randint(0, N)\n",
    "        j = np.random.randint(0, N)\n",
    "        if A[i, j] == 0:\n",
    "            val = 0\n",
    "            while val == 0:\n",
    "                val = np.random.randint(value_range[0], value_range[1] + 1)\n",
    "            A[i, j] = val\n",
    "            current_nonzeros += 1\n",
    "\n",
    "    # bベクトルも整数で\n",
    "    b = np.random.randint(value_range[0], value_range[1] + 1, size=N)\n",
    "    if np.linalg.matrix_rank(A.toarray()) < N:\n",
    "        return generate_full_rank_sparse_integer_system(N, density, value_range, random_state)\n",
    "\n",
    "    return A.tocsr(), b\n",
    "\n",
    "N = 5\n",
    "A, b = generate_full_rank_sparse_integer_system(N, density=0.5, value_range=(-5, 5))\n",
    "print(f\"A.shape = {A.shape}, non zero = {A.nnz}, rank = {np.linalg.matrix_rank(A.toarray())}\")\n",
    "print(A.toarray()) \n",
    "print(b)"
   ]
  },
  {
   "cell_type": "code",
   "execution_count": null,
   "id": "47911402",
   "metadata": {},
   "outputs": [
    {
     "data": {
      "text/latex": [
       "$\\displaystyle \\mathrm{Constants}:\\left( A,\\right)$"
      ],
      "text/plain": [
       "<IPython.core.display.Math object>"
      ]
     },
     "metadata": {},
     "output_type": "display_data"
    },
    {
     "data": {
      "text/latex": [
       "$\\displaystyle \\mathrm{Variables}:\\left( a, \\  b, \\  c, \\  d, \\  e\\right)$"
      ],
      "text/plain": [
       "<IPython.core.display.Math object>"
      ]
     },
     "metadata": {},
     "output_type": "display_data"
    },
    {
     "data": {
      "text/latex": [
       "$\\displaystyle \\mathrm{Equations}$"
      ],
      "text/plain": [
       "<IPython.core.display.Math object>"
      ]
     },
     "metadata": {},
     "output_type": "display_data"
    },
    {
     "data": {
      "text/latex": [
       "$\\displaystyle Eq_0:4 a + 4 e = 1$"
      ],
      "text/plain": [
       "<IPython.core.display.Math object>"
      ]
     },
     "metadata": {},
     "output_type": "display_data"
    },
    {
     "data": {
      "text/latex": [
       "$\\displaystyle Eq_1:- 5 b + 5 c - 4 d + 3 e = 3$"
      ],
      "text/plain": [
       "<IPython.core.display.Math object>"
      ]
     },
     "metadata": {},
     "output_type": "display_data"
    },
    {
     "data": {
      "text/latex": [
       "$\\displaystyle Eq_2:5 c = 0$"
      ],
      "text/plain": [
       "<IPython.core.display.Math object>"
      ]
     },
     "metadata": {},
     "output_type": "display_data"
    },
    {
     "data": {
      "text/latex": [
       "$\\displaystyle Eq_3:- a + 5 b - 3 c - 3 d = 0$"
      ],
      "text/plain": [
       "<IPython.core.display.Math object>"
      ]
     },
     "metadata": {},
     "output_type": "display_data"
    },
    {
     "data": {
      "text/latex": [
       "$\\displaystyle Eq_4:- 3 e = -1$"
      ],
      "text/plain": [
       "<IPython.core.display.Math object>"
      ]
     },
     "metadata": {},
     "output_type": "display_data"
    },
    {
     "data": {
      "text/plain": [
       "<mechanics.system.System at 0x137e54690>"
      ]
     },
     "execution_count": 4,
     "metadata": {},
     "output_type": "execute_result"
    }
   ],
   "source": [
    "from mechanics import *\n",
    "import string\n",
    "\n",
    "vars = string.ascii_lowercase[:N]\n",
    "\n",
    "system = (\n",
    "    System()\n",
    "    .add_variable(' '.join(vars))\n",
    ")\n",
    "for i in range(N):\n",
    "    system.equate(\n",
    "        '+'.join([f'{A[i, j]}*{vars[j]}' for j in range(N)]),\n",
    "        b[i],\n",
    "    )\n",
    "system.show_all()"
   ]
  },
  {
   "cell_type": "code",
   "execution_count": 5,
   "id": "29bac5e8",
   "metadata": {},
   "outputs": [
    {
     "name": "stdout",
     "output_type": "stream",
     "text": [
      "Indices: ()\n",
      "Input: ()\n",
      "Index combinations: ({},)\n",
      "Input on this combo: {}, set()\n"
     ]
    },
    {
     "data": {
      "image/png": "[encoded data removed]",
      "text/plain": [
       "<Figure size 500x500 with 1 Axes>"
      ]
     },
     "metadata": {},
     "output_type": "display_data"
    },
    {
     "name": "stdout",
     "output_type": "stream",
     "text": [
      "output: {e, c, d, a, b}\n",
      "True\n",
      "defaultdict(<class 'dict'>, {Eq_2: 5*c = 0: {c: 5}})\n",
      "defaultdict(<class 'dict'>, {Eq_4: -3*e = -1: {e: -3}})\n",
      "defaultdict(<class 'dict'>, {Eq_0: 4*a + 4*e = 1: {a: 4}})\n",
      "defaultdict(<class 'dict'>, {Eq_3: -a + 5*b - 3*c - 3*d = 0: {b: 5, d: -3}, Eq_1: -5*b + 5*c - 4*d + 3*e = 3: {b: -5, d: -4}})\n",
      "Stage(indices={}, inputs=[])):\n",
      "  Block #0(equations=('Eq_2',), unknowns=[c]), knowns=[], output=[c], indices=[])\n",
      "  Block #1(equations=('Eq_4',), unknowns=[e]), knowns=[], output=[e], indices=[])\n",
      "  Block #2(equations=('Eq_0',), unknowns=[a]), knowns=[e], output=[a], indices=[])\n",
      "  Block #3(equations=('Eq_3', 'Eq_1'), unknowns=[b, d]), knowns=[e, a, c], output=[b, d], indices=[])\n",
      "\n",
      "0000 \n",
      "0001 module constants\n",
      "0002     real(8), save :: pi = 3.14159265358979323846\n",
      "0003 \n",
      "0004     real(8), save :: A_A = 0.0\n",
      "0005 end module constants\n",
      "0006 \n",
      "0007 module indices\n",
      "0008 end module indices\n",
      "0009 \n",
      "0010 module blocks\n",
      "0011 contains\n",
      "0012 \n",
      "0013     subroutine block_0_equation(B_c, eq)\n",
      "0014         use constants\n",
      "0015         implicit none\n",
      "0016         real(8), intent(out) :: eq(:)\n",
      "0017         real(8), intent(in) :: B_c\n",
      "0018         eq(1) = 5*B_c ! Eq_2\n",
      "0019     end subroutine block_0_equation\n",
      "0020 \n",
      "0021     subroutine block_0_jacobian(B_c, jac)\n",
      "0022         use constants\n",
      "0023         implicit none\n",
      "0024         real(8), intent(out) :: jac(:,:)\n",
      "0025         real(8), intent(in) :: B_c\n",
      "0026         jac(1, 1) = 5\n",
      "0027     end subroutine block_0_jacobian\n",
      "0028 \n",
      "0029     subroutine block_1_equation(C_e, eq)\n",
      "0030         use constants\n",
      "0031         implicit none\n",
      "0032         real(8), intent(out) :: eq(:)\n",
      "0033         real(8), intent(in) :: C_e\n",
      "0034         eq(1) = 1 - 3*C_e ! Eq_4\n",
      "0035     end subroutine block_1_equation\n",
      "0036 \n",
      "0037     subroutine block_1_jacobian(C_e, jac)\n",
      "0038         use constants\n",
      "0039         implicit none\n",
      "0040         real(8), intent(out) :: jac(:,:)\n",
      "0041         real(8), intent(in) :: C_e\n",
      "0042         jac(1, 1) = -3\n",
      "0043     end subroutine block_1_jacobian\n",
      "0044 \n",
      "0045     subroutine block_2_equation(D_a, C_e, eq)\n",
      "0046         use constants\n",
      "0047         implicit none\n",
      "0048         real(8), intent(out) :: eq(:)\n",
      "0049         real(8), intent(in) :: D_a\n",
      "0050         real(8), intent(in) :: C_e\n",
      "0051         eq(1) = 4*D_a + 4*C_e - 1 ! Eq_0\n",
      "0052     end subroutine block_2_equation\n",
      "0053 \n",
      "0054     subroutine block_2_jacobian(D_a, C_e, jac)\n",
      "0055         use constants\n",
      "0056         implicit none\n",
      "0057         real(8), intent(out) :: jac(:,:)\n",
      "0058         real(8), intent(in) :: D_a\n",
      "0059         real(8), intent(in) :: C_e\n",
      "0060         jac(1, 1) = 4\n",
      "0061     end subroutine block_2_jacobian\n",
      "0062 \n",
      "0063     subroutine block_3_equation(E_b, F_d, C_e, D_a, B_c, eq)\n",
      "0064         use constants\n",
      "0065         implicit none\n",
      "0066         real(8), intent(out) :: eq(:)\n",
      "0067         real(8), intent(in) :: E_b\n",
      "0068         real(8), intent(in) :: F_d\n",
      "0069         real(8), intent(in) :: C_e\n",
      "0070         real(8), intent(in) :: D_a\n",
      "0071         real(8), intent(in) :: B_c\n",
      "0072         eq(1) = -D_a + 5*E_b - 3*B_c - 3*F_d ! Eq_3\n",
      "0073         eq(2) = -5*E_b + 5*B_c - 4*F_d + 3*C_e - 3 ! Eq_1\n",
      "0074     end subroutine block_3_equation\n",
      "0075 \n",
      "0076     subroutine block_3_jacobian(E_b, F_d, C_e, D_a, B_c, jac)\n",
      "0077         use constants\n",
      "0078         implicit none\n",
      "0079         real(8), intent(out) :: jac(:,:)\n",
      "0080         real(8), intent(in) :: E_b\n",
      "0081         real(8), intent(in) :: F_d\n",
      "0082         real(8), intent(in) :: C_e\n",
      "0083         real(8), intent(in) :: D_a\n",
      "0084         real(8), intent(in) :: B_c\n",
      "0085         jac(1, 1) = 5\n",
      "0086         jac(1, 2) = -3\n",
      "0087         jac(2, 1) = -5\n",
      "0088         jac(2, 2) = -4\n",
      "0089     end subroutine block_3_jacobian\n",
      "0090 \n",
      "0091 end module blocks\n",
      "0092 \n",
      "0093 subroutine run_solver(log_path, condition, status, message)\n",
      "0094     use, intrinsic :: ieee_arithmetic\n",
      "0095     use constants\n",
      "0096     use blocks\n",
      "0097     implicit none\n",
      "0098     double precision dnrm2\n",
      "0099     external dnrm2\n",
      "0100 \n",
      "0101     character(len=*), intent(in) :: log_path\n",
      "0102     real(8), dimension(1), intent(in) :: condition\n",
      "0103     integer, intent(out) :: status\n",
      "0104     character(len=100), intent(out) :: message\n",
      "0105 \n",
      "0106     integer :: log_unit\n",
      "0107     integer :: ios\n",
      "0108 \n",
      "0109     real(8), dimension(2) :: eq\n",
      "0110     real(8), dimension(2,2) :: jac\n",
      "0111     real(8), dimension(2) :: vars\n",
      "0112     integer, dimension(2) :: ipiv\n",
      "0113     integer :: info\n",
      "0114     real(8) :: residual\n",
      "0115     integer :: newton_iter\n",
      "0116     real(8) :: tol = 1e-8\n",
      "0117     integer :: i\n",
      "0118 \n",
      "0119 \n",
      "0120     real(8) :: D_a = 0.0\n",
      "0121     real(8) :: E_b = 0.0\n",
      "0122     real(8) :: B_c = 0.0\n",
      "0123     real(8) :: F_d = 0.0\n",
      "0124     real(8) :: C_e = 0.0\n",
      "0125     A_A = condition(i + 1)\n",
      "0126 \n",
      "0127 \n",
      "0128     print *, \"Started\"\n",
      "0129     print *, \"Output in \", log_path\n",
      "0130 \n",
      "0131     open(unit=log_unit, file=log_path//\"log.bin\", form='unformatted',&\n",
      "0132          access='stream', status='replace', iostat=ios)\n",
      "0133     if (ios /= 0) then\n",
      "0134        print *, \"Error opening file: \", log_path//\"log.bin\"\n",
      "0135        stop 1\n",
      "0136     end if\n",
      "0137 \n",
      "0138 \n",
      "0139     ! ======================== Block 0 ========================\n",
      "0140 \n",
      "0141 \n",
      "0142     call block_0_equation(B_c, eq)\n",
      "0143 \n",
      "0144     do newton_iter = 1, 10\n",
      "0145         jac = 0\n",
      "0146 \n",
      "0147         call block_0_jacobian(B_c, jac)\n",
      "0148 \n",
      "0149         print *, \"Block 0\"\n",
      "0150         print *, \"eq\", eq\n",
      "0151         print *, \"jac\", jac\n",
      "0152 \n",
      "0153         ! jac * r = eq; eq = r\n",
      "0154         call dgesv(1, 1, jac, 1, ipiv, eq, 1, info)\n",
      "0155         if (info /= 0) then\n",
      "0156             write(message, '(\"Block 0, dgesv error: \", i5)') info\n",
      "0157             status = 1\n",
      "0158             return\n",
      "0159         end if\n",
      "0160 \n",
      "0161         print *, \"old \", \"B_c\", B_c \n",
      "0162         B_c = B_c - eq(1)\n",
      "0163         print *, \"new \", \"B_c\", B_c \n",
      "0164 \n",
      "0165 \n",
      "0166         print *, \"red\", eq\n",
      "0167 \n",
      "0168         call block_0_equation(B_c, eq)\n",
      "0169 \n",
      "0170         print *, \"new_eq\", eq\n",
      "0171 \n",
      "0172         residual = dnrm2(1, eq, 1)\n",
      "0173 \n",
      "0174         if (ieee_is_nan(residual)) then\n",
      "0175             write(message, '(\"Block 0, nan: \", i5, E10.4)') newton_iter, residual\n",
      "0176             status = 1\n",
      "0177             return\n",
      "0178         end if\n",
      "0179         if (residual < tol) exit\n",
      "0180     end do\n",
      "0181     if (residual >= tol) then\n",
      "0182         write(message, '(\"Block 0 not converging: \", i5, \", \", E10.4)') newton_iter, residual\n",
      "0183         status = 1\n",
      "0184         return\n",
      "0185     else\n",
      "0186         print \"('  Block 0 converged in ', i3, ' iterations, residual = ', E10.4)\", newton_iter, residual\n",
      "0187     end if\n",
      "0188 \n",
      "0189     ! ======================== Block 1 ========================\n",
      "0190 \n",
      "0191 \n",
      "0192     call block_1_equation(C_e, eq)\n",
      "0193 \n",
      "0194     do newton_iter = 1, 10\n",
      "0195         jac = 0\n",
      "0196 \n",
      "0197         call block_1_jacobian(C_e, jac)\n",
      "0198 \n",
      "0199         print *, \"Block 1\"\n",
      "0200         print *, \"eq\", eq\n",
      "0201         print *, \"jac\", jac\n",
      "0202 \n",
      "0203         ! jac * r = eq; eq = r\n",
      "0204         call dgesv(1, 1, jac, 1, ipiv, eq, 1, info)\n",
      "0205         if (info /= 0) then\n",
      "0206             write(message, '(\"Block 1, dgesv error: \", i5)') info\n",
      "0207             status = 1\n",
      "0208             return\n",
      "0209         end if\n",
      "0210 \n",
      "0211         print *, \"old \", \"C_e\", C_e \n",
      "0212         C_e = C_e - eq(1)\n",
      "0213         print *, \"new \", \"C_e\", C_e \n",
      "0214 \n",
      "0215 \n",
      "0216         print *, \"red\", eq\n",
      "0217 \n",
      "0218         call block_1_equation(C_e, eq)\n",
      "0219 \n",
      "0220         print *, \"new_eq\", eq\n",
      "0221 \n",
      "0222         residual = dnrm2(1, eq, 1)\n",
      "0223 \n",
      "0224         if (ieee_is_nan(residual)) then\n",
      "0225             write(message, '(\"Block 1, nan: \", i5, E10.4)') newton_iter, residual\n",
      "0226             status = 1\n",
      "0227             return\n",
      "0228         end if\n",
      "0229         if (residual < tol) exit\n",
      "0230     end do\n",
      "0231     if (residual >= tol) then\n",
      "0232         write(message, '(\"Block 1 not converging: \", i5, \", \", E10.4)') newton_iter, residual\n",
      "0233         status = 1\n",
      "0234         return\n",
      "0235     else\n",
      "0236         print \"('  Block 1 converged in ', i3, ' iterations, residual = ', E10.4)\", newton_iter, residual\n",
      "0237     end if\n",
      "0238 \n",
      "0239     ! ======================== Block 2 ========================\n",
      "0240 \n",
      "0241 \n",
      "0242     call block_2_equation(D_a, C_e, eq)\n",
      "0243 \n",
      "0244     do newton_iter = 1, 10\n",
      "0245         jac = 0\n",
      "0246 \n",
      "0247         call block_2_jacobian(D_a, C_e, jac)\n",
      "0248 \n",
      "0249         print *, \"Block 2\"\n",
      "0250         print *, \"eq\", eq\n",
      "0251         print *, \"jac\", jac\n",
      "0252 \n",
      "0253         ! jac * r = eq; eq = r\n",
      "0254         call dgesv(1, 1, jac, 1, ipiv, eq, 1, info)\n",
      "0255         if (info /= 0) then\n",
      "0256             write(message, '(\"Block 2, dgesv error: \", i5)') info\n",
      "0257             status = 1\n",
      "0258             return\n",
      "0259         end if\n",
      "0260 \n",
      "0261         print *, \"old \", \"D_a\", D_a \n",
      "0262         D_a = D_a - eq(1)\n",
      "0263         print *, \"new \", \"D_a\", D_a \n",
      "0264 \n",
      "0265 \n",
      "0266         print *, \"red\", eq\n",
      "0267 \n",
      "0268         call block_2_equation(D_a, C_e, eq)\n",
      "0269 \n",
      "0270         print *, \"new_eq\", eq\n",
      "0271 \n",
      "0272         residual = dnrm2(1, eq, 1)\n",
      "0273 \n",
      "0274         if (ieee_is_nan(residual)) then\n",
      "0275             write(message, '(\"Block 2, nan: \", i5, E10.4)') newton_iter, residual\n",
      "0276             status = 1\n",
      "0277             return\n",
      "0278         end if\n",
      "0279         if (residual < tol) exit\n",
      "0280     end do\n",
      "0281     if (residual >= tol) then\n",
      "0282         write(message, '(\"Block 2 not converging: \", i5, \", \", E10.4)') newton_iter, residual\n",
      "0283         status = 1\n",
      "0284         return\n",
      "0285     else\n",
      "0286         print \"('  Block 2 converged in ', i3, ' iterations, residual = ', E10.4)\", newton_iter, residual\n",
      "0287     end if\n",
      "0288 \n",
      "0289     ! ======================== Block 3 ========================\n",
      "0290 \n",
      "0291 \n",
      "0292     call block_3_equation(E_b, F_d, C_e, D_a, B_c, eq)\n",
      "0293 \n",
      "0294     do newton_iter = 1, 10\n",
      "0295         jac = 0\n",
      "0296 \n",
      "0297         call block_3_jacobian(E_b, F_d, C_e, D_a, B_c, jac)\n",
      "0298 \n",
      "0299         print *, \"Block 3\"\n",
      "0300         print *, \"eq\", eq\n",
      "0301         print *, \"jac\", jac\n",
      "0302 \n",
      "0303         ! jac * r = eq; eq = r\n",
      "0304         call dgesv(2, 1, jac, 2, ipiv, eq, 2, info)\n",
      "0305         if (info /= 0) then\n",
      "0306             write(message, '(\"Block 3, dgesv error: \", i5)') info\n",
      "0307             status = 1\n",
      "0308             return\n",
      "0309         end if\n",
      "0310 \n",
      "0311         print *, \"old \", \"E_b\", E_b \n",
      "0312         E_b = E_b - eq(1)\n",
      "0313         print *, \"new \", \"E_b\", E_b \n",
      "0314 \n",
      "0315         print *, \"old \", \"F_d\", F_d \n",
      "0316         F_d = F_d - eq(2)\n",
      "0317         print *, \"new \", \"F_d\", F_d \n",
      "0318 \n",
      "0319 \n",
      "0320         print *, \"red\", eq\n",
      "0321 \n",
      "0322         call block_3_equation(E_b, F_d, C_e, D_a, B_c, eq)\n",
      "0323 \n",
      "0324         print *, \"new_eq\", eq\n",
      "0325 \n",
      "0326         residual = dnrm2(2, eq, 1)\n",
      "0327 \n",
      "0328         if (ieee_is_nan(residual)) then\n",
      "0329             write(message, '(\"Block 3, nan: \", i5, E10.4)') newton_iter, residual\n",
      "0330             status = 1\n",
      "0331             return\n",
      "0332         end if\n",
      "0333         if (residual < tol) exit\n",
      "0334     end do\n",
      "0335     if (residual >= tol) then\n",
      "0336         write(message, '(\"Block 3 not converging: \", i5, \", \", E10.4)') newton_iter, residual\n",
      "0337         status = 1\n",
      "0338         return\n",
      "0339     else\n",
      "0340         print \"('  Block 3 converged in ', i3, ' iterations, residual = ', E10.4)\", newton_iter, residual\n",
      "0341     end if\n",
      "0342 \n",
      "0343     write (log_unit) D_a\n",
      "0344     write (log_unit) E_b\n",
      "0345     write (log_unit) B_c\n",
      "0346     write (log_unit) F_d\n",
      "0347     write (log_unit) C_e\n",
      "0348 \n",
      "0349     print *, \"Completed\"\n",
      "0350     close(log_unit)\n",
      "0351 end subroutine run_solver\n",
      "/var/folders/4n/_jcnzrss7571s_0zzmtzqtsr0000gn/T/tmpg_70gls2\n"
     ]
    },
    {
     "name": "stderr",
     "output_type": "stream",
     "text": [
      "build/src.macosx-13.2-arm64-3.11/generatedmodule.c:1310:7: warning: unused variable 'i_f2py' [-Wunused-variable]\n",
      " 1310 |   int i_f2py=0;\n",
      "      |       ^~~~~~\n",
      "1 warning generated.\n"
     ]
    },
    {
     "ename": "",
     "evalue": "",
     "output_type": "error",
     "traceback": [
      "\u001b[1;31mThe Kernel crashed while executing code in the current cell or a previous cell. \n",
      "\u001b[1;31mPlease review the code in the cell(s) to identify a possible cause of the failure. \n",
      "\u001b[1;31mClick <a href='https://aka.ms/vscodeJupyterKernelCrash'>here</a> for more info. \n",
      "\u001b[1;31mView Jupyter <a href='command:jupyter.viewOutput'>log</a> for further details."
     ]
    }
   ],
   "source": [
    "solver = system.solver()\n",
    "# solver.plot_dependencies()"
   ]
  },
  {
   "cell_type": "code",
   "execution_count": 290,
   "id": "1ad1f9b9",
   "metadata": {},
   "outputs": [
    {
     "name": "stdout",
     "output_type": "stream",
     "text": [
      " Started\n",
      " Output in /Users/yuuki.fj/Develop/mechanics/examples/result/20250716_031928/\n",
      "  Block 0 converged in   1 iterations, residual = 0.2220E-15\n",
      "  Block 1 converged in   1 iterations, residual = 0.4441E-15\n",
      " Completed\n",
      "x = [-0.12681159  0.57971014 -1.24637681  0.36231884 -1.13043478]\n",
      "Ax = [3. 5. 2. 2. 4.]\n",
      "b = [3 5 2 2 4]\n"
     ]
    }
   ],
   "source": [
    "result = solver.run({})\n",
    "x = np.array([ result[var] for var in vars ])\n",
    "print(f\"x = {x}\")\n",
    "print(f\"Ax = {A.dot(x)}\")\n",
    "print(f\"b = {b}\")\n",
    "np.testing.assert_allclose(A.dot(x), b, atol=1e-10)"
   ]
  },
  {
   "cell_type": "code",
   "execution_count": null,
   "id": "1effb926",
   "metadata": {},
   "outputs": [],
   "source": []
  }
 ],
 "metadata": {
  "kernelspec": {
   "display_name": "3.11.2",
   "language": "python",
   "name": "python3"
  },
  "language_info": {
   "codemirror_mode": {
    "name": "ipython",
    "version": 3
   },
   "file_extension": ".py",
   "mimetype": "text/x-python",
   "name": "python",
   "nbconvert_exporter": "python",
   "pygments_lexer": "ipython3",
   "version": "3.11.2"
  }
 },
 "nbformat": 4,
 "nbformat_minor": 5
}
