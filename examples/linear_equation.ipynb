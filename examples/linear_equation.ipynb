{
 "cells": [
  {
   "cell_type": "code",
   "execution_count": 6,
   "id": "9cb28e4d",
   "metadata": {},
   "outputs": [
    {
     "name": "stdout",
     "output_type": "stream",
     "text": [
      "The autoreload extension is already loaded. To reload it, use:\n",
      "  %reload_ext autoreload\n"
     ]
    }
   ],
   "source": [
    "%reset -f\n",
    "%load_ext autoreload\n",
    "%autoreload 2"
   ]
  },
  {
   "cell_type": "code",
   "execution_count": 7,
   "id": "cca9fcf4",
   "metadata": {},
   "outputs": [
    {
     "name": "stdout",
     "output_type": "stream",
     "text": [
      "A.shape = (5, 5), non zero = 12, rank = 5\n",
      "[[-2 -4  0  0  1]\n",
      " [ 0 -1  0  0  5]\n",
      " [ 4  0  1  0  2]\n",
      " [ 0 -2  0  5  0]\n",
      " [ 0  3  0  0 -1]]\n",
      "[ 2  2 -3 -1 -4]\n"
     ]
    }
   ],
   "source": [
    "import numpy as np\n",
    "from scipy.sparse import lil_matrix\n",
    "\n",
    "\n",
    "def generate_full_rank_sparse_integer_system(N, density=0.01, value_range=(-10, 10), random_state=None):\n",
    "    \"\"\"\n",
    "    フルランクなスパース整数連立一次方程式 Ax = b を生成する。\n",
    "    \n",
    "    N: 変数（=行数=列数）\n",
    "    density: 全体に占める非ゼロ要素割合\n",
    "    value_range: 非ゼロ整数値の範囲（例：(-5, 5)）\n",
    "    \"\"\"\n",
    "    if random_state is not None:\n",
    "        np.random.seed(random_state)\n",
    "\n",
    "    A = lil_matrix((N, N), dtype=int)\n",
    "\n",
    "    # ステップ1: 各行に1つ以上の非ゼロ（対角線に1を置くことでrankを確保）\n",
    "    for i in range(N):\n",
    "        val = 0\n",
    "        while val == 0:\n",
    "            val = np.random.randint(value_range[0], value_range[1] + 1)\n",
    "        A[i, i] = val\n",
    "\n",
    "    # ステップ2: ランダムな位置に追加で非ゼロ整数を入れる（スパース性の調整）\n",
    "    total_nonzeros_target = int(N * N * density)\n",
    "    current_nonzeros = N  # すでに対角にN個ある\n",
    "    while current_nonzeros < total_nonzeros_target:\n",
    "        i = np.random.randint(0, N)\n",
    "        j = np.random.randint(0, N)\n",
    "        if A[i, j] == 0:\n",
    "            val = 0\n",
    "            while val == 0:\n",
    "                val = np.random.randint(value_range[0], value_range[1] + 1)\n",
    "            A[i, j] = val\n",
    "            current_nonzeros += 1\n",
    "\n",
    "    # bベクトルも整数で\n",
    "    b = np.random.randint(value_range[0], value_range[1] + 1, size=N)\n",
    "\n",
    "    return A.tocsr(), b\n",
    "\n",
    "N = 5\n",
    "A, b = generate_full_rank_sparse_integer_system(N, density=0.5, value_range=(-5, 5))\n",
    "\n",
    "print(f\"A.shape = {A.shape}, non zero = {A.nnz}, rank = {np.linalg.matrix_rank(A.toarray())}\")\n",
    "print(A.toarray()) \n",
    "print(b)"
   ]
  },
  {
   "cell_type": "code",
   "execution_count": 8,
   "id": "47911402",
   "metadata": {},
   "outputs": [
    {
     "data": {
      "text/latex": [
       "$\\displaystyle \\mathrm{Variables}:\\left( a, \\  b, \\  c, \\  d, \\  e\\right)$"
      ],
      "text/plain": [
       "<IPython.core.display.Math object>"
      ]
     },
     "metadata": {},
     "output_type": "display_data"
    },
    {
     "data": {
      "text/latex": [
       "$\\displaystyle \\mathrm{Equations}$"
      ],
      "text/plain": [
       "<IPython.core.display.Math object>"
      ]
     },
     "metadata": {},
     "output_type": "display_data"
    },
    {
     "data": {
      "text/latex": [
       "$\\displaystyle Eq_0:- 2 a - 4 b + e = 2$"
      ],
      "text/plain": [
       "<IPython.core.display.Math object>"
      ]
     },
     "metadata": {},
     "output_type": "display_data"
    },
    {
     "data": {
      "text/latex": [
       "$\\displaystyle Eq_1:- b + 5 e = 2$"
      ],
      "text/plain": [
       "<IPython.core.display.Math object>"
      ]
     },
     "metadata": {},
     "output_type": "display_data"
    },
    {
     "data": {
      "text/latex": [
       "$\\displaystyle Eq_2:4 a + c + 2 e = -3$"
      ],
      "text/plain": [
       "<IPython.core.display.Math object>"
      ]
     },
     "metadata": {},
     "output_type": "display_data"
    },
    {
     "data": {
      "text/latex": [
       "$\\displaystyle Eq_3:- 2 b + 5 d = -1$"
      ],
      "text/plain": [
       "<IPython.core.display.Math object>"
      ]
     },
     "metadata": {},
     "output_type": "display_data"
    },
    {
     "data": {
      "text/latex": [
       "$\\displaystyle Eq_4:3 b - e = -4$"
      ],
      "text/plain": [
       "<IPython.core.display.Math object>"
      ]
     },
     "metadata": {},
     "output_type": "display_data"
    },
    {
     "data": {
      "text/plain": [
       "<mechanics.system.System at 0x113a44650>"
      ]
     },
     "execution_count": 8,
     "metadata": {},
     "output_type": "execute_result"
    }
   ],
   "source": [
    "from mechanics import *\n",
    "import string\n",
    "\n",
    "vars = string.ascii_lowercase[:N]\n",
    "\n",
    "system = (\n",
    "    System()\n",
    "    .add_variable(' '.join(vars))\n",
    ")\n",
    "for i in range(N):\n",
    "    system.equate(\n",
    "        '+'.join([f'{A[i, j]}*{vars[j]}' for j in range(N)]),\n",
    "        b[i],\n",
    "    )\n",
    "system.show_all()"
   ]
  },
  {
   "cell_type": "code",
   "execution_count": null,
   "id": "29bac5e8",
   "metadata": {},
   "outputs": [
    {
     "name": "stdout",
     "output_type": "stream",
     "text": [
      "Indices: ()\n",
      "match [Eq_0 <- a, {}, Eq_1 <- b, {}, Eq_2 <- c, {}, Eq_3 <- d, {}, Eq_4 <- e, {}]\n",
      "Edges: ['Eq_0 -> e, b, a', 'a -> Eq_0', 'Eq_1 -> e, b', 'b -> Eq_1', 'Eq_2 -> e, c, a', 'c -> Eq_2', 'Eq_3 -> d, b', 'd -> Eq_3', 'Eq_4 -> e, b', 'e -> Eq_4']\n",
      "{'Eq_4': {e: -1, b: 3}, 'Eq_1': {e: 5, b: -1}}\n",
      "{'Eq_0': {a: -2}}\n",
      "{'Eq_2': {c: 1}}\n",
      "{'Eq_3': {d: 5}}\n",
      "Block #0(equations=('Eq_4', 'Eq_1'), unknowns=(e, b)), knowns=())\n",
      "Block #1(equations=('Eq_0',), unknowns=(a,)), knowns=(e, b))\n",
      "Block #2(equations=('Eq_2',), unknowns=(c,)), knowns=(e, a))\n",
      "Block #3(equations=('Eq_3',), unknowns=(d,)), knowns=(b,))\n",
      "\n",
      "module constants\n",
      "\n",
      "end module constants\n",
      "\n",
      "module blocks\n",
      "\n",
      "end module blocks\n",
      "\n"
     ]
    },
    {
     "ename": "",
     "evalue": "",
     "output_type": "error",
     "traceback": [
      "\u001b[1;31mThe Kernel crashed while executing code in the current cell or a previous cell. \n",
      "\u001b[1;31mPlease review the code in the cell(s) to identify a possible cause of the failure. \n",
      "\u001b[1;31mClick <a href='https://aka.ms/vscodeJupyterKernelCrash'>here</a> for more info. \n",
      "\u001b[1;31mView Jupyter <a href='command:jupyter.viewOutput'>log</a> for further details."
     ]
    }
   ],
   "source": [
    "solver = system.solver()\n",
    "# solver.plot_dependencies()\n",
    "# solver.run({})\n",
    "# solver.plot_jacobian()\n",
    "# solver.print_jacobian()"
   ]
  },
  {
   "cell_type": "code",
   "execution_count": null,
   "id": "039b233b",
   "metadata": {},
   "outputs": [
    {
     "name": "stdout",
     "output_type": "stream",
     "text": [
      "/Users/yuuki.fj/.pyenv/versions/3.11.2/lib/python3.11/site-packages/numpy/f2py/src\n"
     ]
    }
   ],
   "source": [
    "import numpy.f2py"
   ]
  }
 ],
 "metadata": {
  "kernelspec": {
   "display_name": "3.11.2",
   "language": "python",
   "name": "python3"
  },
  "language_info": {
   "codemirror_mode": {
    "name": "ipython",
    "version": 3
   },
   "file_extension": ".py",
   "mimetype": "text/x-python",
   "name": "python",
   "nbconvert_exporter": "python",
   "pygments_lexer": "ipython3",
   "version": "3.11.2"
  }
 },
 "nbformat": 4,
 "nbformat_minor": 5
}
