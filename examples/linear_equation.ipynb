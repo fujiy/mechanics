{
 "cells": [
  {
   "cell_type": "code",
   "execution_count": 40,
   "id": "9cb28e4d",
   "metadata": {},
   "outputs": [
    {
     "name": "stdout",
     "output_type": "stream",
     "text": [
      "The autoreload extension is already loaded. To reload it, use:\n",
      "  %reload_ext autoreload\n"
     ]
    }
   ],
   "source": [
    "%reset -f\n",
    "%load_ext autoreload\n",
    "%autoreload 2\n",
    "import logging\n",
    "logging.getLogger().setLevel(logging.WARNING)"
   ]
  },
  {
   "cell_type": "code",
   "execution_count": 41,
   "id": "cca9fcf4",
   "metadata": {},
   "outputs": [
    {
     "name": "stdout",
     "output_type": "stream",
     "text": [
      "A.shape = (5, 5), non zero = 12, rank = 5\n",
      "[[ 4 -4  0  0 -1]\n",
      " [ 1  3 -1  0  0]\n",
      " [ 0  0  1 -2  0]\n",
      " [ 0 -5  0  5  0]\n",
      " [ 0  0  0  3  2]]\n",
      "[ 3 -5  2 -3 -1]\n"
     ]
    }
   ],
   "source": [
    "import numpy as np\n",
    "from scipy.sparse import lil_matrix\n",
    "\n",
    "\n",
    "def generate_full_rank_sparse_integer_system(N, density=0.01, value_range=(-10, 10), random_state=None):\n",
    "    \"\"\"\n",
    "    フルランクなスパース整数連立一次方程式 Ax = b を生成する。\n",
    "    \n",
    "    N: 変数（=行数=列数）\n",
    "    density: 全体に占める非ゼロ要素割合\n",
    "    value_range: 非ゼロ整数値の範囲（例：(-5, 5)）\n",
    "    \"\"\"\n",
    "    if random_state is not None:\n",
    "        np.random.seed(random_state)\n",
    "\n",
    "    A = lil_matrix((N, N), dtype=int)\n",
    "\n",
    "    # ステップ1: 各行に1つ以上の非ゼロ（対角線に1を置くことでrankを確保）\n",
    "    for i in range(N):\n",
    "        val = 0\n",
    "        while val == 0:\n",
    "            val = np.random.randint(value_range[0], value_range[1] + 1)\n",
    "        A[i, i] = val\n",
    "\n",
    "    # ステップ2: ランダムな位置に追加で非ゼロ整数を入れる（スパース性の調整）\n",
    "    total_nonzeros_target = int(N * N * density)\n",
    "    current_nonzeros = N  # すでに対角にN個ある\n",
    "    while current_nonzeros < total_nonzeros_target:\n",
    "        i = np.random.randint(0, N)\n",
    "        j = np.random.randint(0, N)\n",
    "        if A[i, j] == 0:\n",
    "            val = 0\n",
    "            while val == 0:\n",
    "                val = np.random.randint(value_range[0], value_range[1] + 1)\n",
    "            A[i, j] = val\n",
    "            current_nonzeros += 1\n",
    "\n",
    "    # bベクトルも整数で\n",
    "    b = np.random.randint(value_range[0], value_range[1] + 1, size=N)\n",
    "    if np.linalg.matrix_rank(A.toarray()) < N:\n",
    "        return generate_full_rank_sparse_integer_system(N, density, value_range, random_state)\n",
    "\n",
    "    return A.tocsr(), b\n",
    "\n",
    "N = 5\n",
    "A, b = generate_full_rank_sparse_integer_system(N, density=0.5, value_range=(-5, 5))\n",
    "print(f\"A.shape = {A.shape}, non zero = {A.nnz}, rank = {np.linalg.matrix_rank(A.toarray())}\")\n",
    "print(A.toarray()) \n",
    "print(b)"
   ]
  },
  {
   "cell_type": "code",
   "execution_count": 42,
   "id": "47911402",
   "metadata": {},
   "outputs": [
    {
     "data": {
      "text/latex": [
       "$\\displaystyle \\text{Variables}:\\left( a, \\  b, \\  c, \\  d, \\  e\\right)$"
      ],
      "text/plain": [
       "<IPython.core.display.Math object>"
      ]
     },
     "metadata": {},
     "output_type": "display_data"
    },
    {
     "data": {
      "text/latex": [
       "$\\displaystyle \\text{Equations:}$"
      ],
      "text/plain": [
       "<IPython.core.display.Math object>"
      ]
     },
     "metadata": {},
     "output_type": "display_data"
    },
    {
     "data": {
      "text/latex": [
       "$\\displaystyle Eq_0:4 a - 4 b - e = 3$"
      ],
      "text/plain": [
       "<IPython.core.display.Math object>"
      ]
     },
     "metadata": {},
     "output_type": "display_data"
    },
    {
     "data": {
      "text/latex": [
       "$\\displaystyle Eq_1:a + 3 b - c = -5$"
      ],
      "text/plain": [
       "<IPython.core.display.Math object>"
      ]
     },
     "metadata": {},
     "output_type": "display_data"
    },
    {
     "data": {
      "text/latex": [
       "$\\displaystyle Eq_2:c - 2 d = 2$"
      ],
      "text/plain": [
       "<IPython.core.display.Math object>"
      ]
     },
     "metadata": {},
     "output_type": "display_data"
    },
    {
     "data": {
      "text/latex": [
       "$\\displaystyle Eq_3:- 5 b + 5 d = -3$"
      ],
      "text/plain": [
       "<IPython.core.display.Math object>"
      ]
     },
     "metadata": {},
     "output_type": "display_data"
    },
    {
     "data": {
      "text/latex": [
       "$\\displaystyle Eq_4:3 d + 2 e = -1$"
      ],
      "text/plain": [
       "<IPython.core.display.Math object>"
      ]
     },
     "metadata": {},
     "output_type": "display_data"
    },
    {
     "data": {
      "text/plain": [
       "<mechanics.system.System at 0x32ae92610>"
      ]
     },
     "execution_count": 42,
     "metadata": {},
     "output_type": "execute_result"
    }
   ],
   "source": [
    "from mechanics import *\n",
    "import string\n",
    "\n",
    "vars = string.ascii_lowercase[:N]\n",
    "\n",
    "system = (\n",
    "    System()\n",
    "    .add_variable(' '.join(vars))\n",
    ")\n",
    "for i in range(N):\n",
    "    system.equate(\n",
    "        '+'.join([f'{A[i, j]}*{vars[j]}' for j in range(N)]),\n",
    "        b[i],\n",
    "    )\n",
    "system.show_all()"
   ]
  },
  {
   "cell_type": "code",
   "execution_count": 43,
   "id": "29bac5e8",
   "metadata": {},
   "outputs": [
    {
     "name": "stdout",
     "output_type": "stream",
     "text": [
      "Generating Fortran code in /var/folders/4n/_jcnzrss7571s_0zzmtzqtsr0000gn/T/tmpzqtbb4fy/generated.f90\n"
     ]
    },
    {
     "name": "stderr",
     "output_type": "stream",
     "text": [
      "ld: warning: ignoring duplicate libraries: '-lgfortran'\n"
     ]
    }
   ],
   "source": [
    "solver = system.solver()\n",
    "# solver.plot_dependencies()"
   ]
  },
  {
   "cell_type": "code",
   "execution_count": 44,
   "id": "1ad1f9b9",
   "metadata": {},
   "outputs": [
    {
     "name": "stdout",
     "output_type": "stream",
     "text": [
      "[]\n",
      " Started\n",
      " Output in /Users/yuuki.fj/Develop/mechanics/examples/result/20250722_165216_igeejQ/\n",
      " Calculating definitions\n",
      " Completed\n",
      "x = [-1.09230769 -3.10769231 -5.41538462 -3.70769231  5.06153846]\n",
      "Ax = [ 3. -5.  2. -3. -1.]\n",
      "b = [ 3 -5  2 -3 -1]\n"
     ]
    }
   ],
   "source": [
    "result = solver.run({})\n",
    "x = np.array([ result[var] for var in vars ])\n",
    "print(f\"x = {x}\")\n",
    "print(f\"Ax = {A.dot(x)}\")\n",
    "print(f\"b = {b}\")\n",
    "np.testing.assert_allclose(A.dot(x), b, atol=1e-10)"
   ]
  },
  {
   "cell_type": "code",
   "execution_count": null,
   "id": "1effb926",
   "metadata": {},
   "outputs": [],
   "source": []
  }
 ],
 "metadata": {
  "kernelspec": {
   "display_name": "3.11.2",
   "language": "python",
   "name": "python3"
  },
  "language_info": {
   "codemirror_mode": {
    "name": "ipython",
    "version": 3
   },
   "file_extension": ".py",
   "mimetype": "text/x-python",
   "name": "python",
   "nbconvert_exporter": "python",
   "pygments_lexer": "ipython3",
   "version": "3.11.2"
  }
 },
 "nbformat": 4,
 "nbformat_minor": 5
}
