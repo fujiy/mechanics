{
 "cells": [
  {
   "cell_type": "code",
   "execution_count": 224,
   "id": "9cb28e4d",
   "metadata": {},
   "outputs": [
    {
     "name": "stdout",
     "output_type": "stream",
     "text": [
      "The autoreload extension is already loaded. To reload it, use:\n",
      "  %reload_ext autoreload\n"
     ]
    }
   ],
   "source": [
    "%reset -f\n",
    "%load_ext autoreload\n",
    "%autoreload 2"
   ]
  },
  {
   "cell_type": "code",
   "execution_count": 225,
   "id": "cca9fcf4",
   "metadata": {},
   "outputs": [
    {
     "name": "stdout",
     "output_type": "stream",
     "text": [
      "A.shape = (5, 5), non zero = 12, rank = 5\n",
      "[[-3  0  0 -3  0]\n",
      " [ 0  4  0  0 -3]\n",
      " [ 0  0  4  0  0]\n",
      " [ 0  0  1  2  0]\n",
      " [-5 -2 -3  4  1]]\n",
      "[-1  0  5  4  4]\n"
     ]
    }
   ],
   "source": [
    "import numpy as np\n",
    "from scipy.sparse import lil_matrix\n",
    "\n",
    "\n",
    "def generate_full_rank_sparse_integer_system(N, density=0.01, value_range=(-10, 10), random_state=None):\n",
    "    \"\"\"\n",
    "    フルランクなスパース整数連立一次方程式 Ax = b を生成する。\n",
    "    \n",
    "    N: 変数（=行数=列数）\n",
    "    density: 全体に占める非ゼロ要素割合\n",
    "    value_range: 非ゼロ整数値の範囲（例：(-5, 5)）\n",
    "    \"\"\"\n",
    "    if random_state is not None:\n",
    "        np.random.seed(random_state)\n",
    "\n",
    "    A = lil_matrix((N, N), dtype=int)\n",
    "\n",
    "    # ステップ1: 各行に1つ以上の非ゼロ（対角線に1を置くことでrankを確保）\n",
    "    for i in range(N):\n",
    "        val = 0\n",
    "        while val == 0:\n",
    "            val = np.random.randint(value_range[0], value_range[1] + 1)\n",
    "        A[i, i] = val\n",
    "\n",
    "    # ステップ2: ランダムな位置に追加で非ゼロ整数を入れる（スパース性の調整）\n",
    "    total_nonzeros_target = int(N * N * density)\n",
    "    current_nonzeros = N  # すでに対角にN個ある\n",
    "    while current_nonzeros < total_nonzeros_target:\n",
    "        i = np.random.randint(0, N)\n",
    "        j = np.random.randint(0, N)\n",
    "        if A[i, j] == 0:\n",
    "            val = 0\n",
    "            while val == 0:\n",
    "                val = np.random.randint(value_range[0], value_range[1] + 1)\n",
    "            A[i, j] = val\n",
    "            current_nonzeros += 1\n",
    "\n",
    "    # bベクトルも整数で\n",
    "    b = np.random.randint(value_range[0], value_range[1] + 1, size=N)\n",
    "    if np.linalg.matrix_rank(A.toarray()) < N:\n",
    "        return generate_full_rank_sparse_integer_system(N, density, value_range, random_state)\n",
    "\n",
    "    return A.tocsr(), b\n",
    "\n",
    "N = 5\n",
    "A, b = generate_full_rank_sparse_integer_system(N, density=0.5, value_range=(-5, 5))\n",
    "print(f\"A.shape = {A.shape}, non zero = {A.nnz}, rank = {np.linalg.matrix_rank(A.toarray())}\")\n",
    "print(A.toarray()) \n",
    "print(b)"
   ]
  },
  {
   "cell_type": "code",
   "execution_count": 226,
   "id": "47911402",
   "metadata": {},
   "outputs": [
    {
     "data": {
      "text/latex": [
       "$\\displaystyle \\mathrm{Variables}:\\left( a, \\  b, \\  c, \\  d, \\  e\\right)$"
      ],
      "text/plain": [
       "<IPython.core.display.Math object>"
      ]
     },
     "metadata": {},
     "output_type": "display_data"
    },
    {
     "data": {
      "text/latex": [
       "$\\displaystyle \\mathrm{Equations}$"
      ],
      "text/plain": [
       "<IPython.core.display.Math object>"
      ]
     },
     "metadata": {},
     "output_type": "display_data"
    },
    {
     "data": {
      "text/latex": [
       "$\\displaystyle Eq_0:- 3 a - 3 d = -1$"
      ],
      "text/plain": [
       "<IPython.core.display.Math object>"
      ]
     },
     "metadata": {},
     "output_type": "display_data"
    },
    {
     "data": {
      "text/latex": [
       "$\\displaystyle Eq_1:4 b - 3 e = 0$"
      ],
      "text/plain": [
       "<IPython.core.display.Math object>"
      ]
     },
     "metadata": {},
     "output_type": "display_data"
    },
    {
     "data": {
      "text/latex": [
       "$\\displaystyle Eq_2:4 c = 5$"
      ],
      "text/plain": [
       "<IPython.core.display.Math object>"
      ]
     },
     "metadata": {},
     "output_type": "display_data"
    },
    {
     "data": {
      "text/latex": [
       "$\\displaystyle Eq_3:c + 2 d = 4$"
      ],
      "text/plain": [
       "<IPython.core.display.Math object>"
      ]
     },
     "metadata": {},
     "output_type": "display_data"
    },
    {
     "data": {
      "text/latex": [
       "$\\displaystyle Eq_4:- 5 a - 2 b - 3 c + 4 d + e = 4$"
      ],
      "text/plain": [
       "<IPython.core.display.Math object>"
      ]
     },
     "metadata": {},
     "output_type": "display_data"
    },
    {
     "data": {
      "text/plain": [
       "<mechanics.system.System at 0x17665d450>"
      ]
     },
     "execution_count": 226,
     "metadata": {},
     "output_type": "execute_result"
    }
   ],
   "source": [
    "from mechanics import *\n",
    "import string\n",
    "\n",
    "vars = string.ascii_lowercase[:N]\n",
    "\n",
    "system = (\n",
    "    System()\n",
    "    .add_variable(' '.join(vars))\n",
    ")\n",
    "for i in range(N):\n",
    "    system.equate(\n",
    "        '+'.join([f'{A[i, j]}*{vars[j]}' for j in range(N)]),\n",
    "        b[i],\n",
    "    )\n",
    "system.show_all()"
   ]
  },
  {
   "cell_type": "code",
   "execution_count": 227,
   "id": "29bac5e8",
   "metadata": {},
   "outputs": [
    {
     "name": "stdout",
     "output_type": "stream",
     "text": [
      "Indices: ()\n",
      "match [Eq_0 <- a, {}, Eq_1 <- e, {}, Eq_2 <- c, {}, Eq_3 <- d, {}, Eq_4 <- b, {}]\n",
      "Edges: ['Eq_0 -> d, a', 'a -> Eq_0', 'Eq_1 -> e, b', 'e -> Eq_1', 'Eq_2 -> c', 'c -> Eq_2', 'Eq_3 -> d, c', 'd -> Eq_3', 'Eq_4 -> d, a, c, b, e', 'b -> Eq_4']\n",
      "defaultdict(<class 'dict'>, {Eq_2: 4*c = 5: {c: 4}})\n",
      "defaultdict(<class 'dict'>, {Eq_3: c + 2*d = 4: {d: 2}})\n",
      "defaultdict(<class 'dict'>, {Eq_0: -3*a - 3*d = -1: {a: -3}})\n",
      "defaultdict(<class 'dict'>, {Eq_4: -5*a - 2*b - 3*c + 4*d + e = 4: {e: 1, b: -2}, Eq_1: 4*b - 3*e = 0: {e: -3, b: 4}})\n",
      "Block #0(equations=('Eq_2',), unknowns=(c,)), knowns=())\n",
      "Block #1(equations=('Eq_3',), unknowns=(d,)), knowns=(c,))\n",
      "Block #2(equations=('Eq_0',), unknowns=(a,)), knowns=(d,))\n",
      "Block #3(equations=('Eq_4', 'Eq_1'), unknowns=(e, b)), knowns=(d, a, c))\n",
      "\n",
      "module constants\n",
      "    real(8), parameter :: pi = 3.14159265358979323846\n",
      "end module constants\n",
      "\n",
      "module variables\n",
      "    real(8), save :: a = 0.0\n",
      "    real(8), save :: b = 0.0\n",
      "    real(8), save :: c = 0.0\n",
      "    real(8), save :: d = 0.0\n",
      "    real(8), save :: e = 0.0\n",
      "end module variables\n",
      "\n",
      "module blocks\n",
      "contains\n",
      "\n",
      "    subroutine block_0_equation(c, eq)\n",
      "        use constants\n",
      "        implicit none\n",
      "        real(8), dimension(1), intent(out) :: eq\n",
      "        real(8), intent(in) :: c\n",
      "        eq(1) = 4*c - 5 ! Eq_2\n",
      "    end subroutine block_0_equation\n",
      "\n",
      "    subroutine block_0_jacobian(c, jac)\n",
      "        use constants\n",
      "        implicit none\n",
      "        real(8), dimension(1, 1), intent(out) :: jac\n",
      "        real(8), intent(in) :: c\n",
      "        jac(1, 1) = 4 ! d(Eq_2)/d(c)\n",
      "    end subroutine block_0_jacobian\n",
      "\n",
      "    subroutine block_1_equation(d, c, eq)\n",
      "        use constants\n",
      "        implicit none\n",
      "        real(8), dimension(1), intent(out) :: eq\n",
      "        real(8), intent(in) :: d\n",
      "        real(8), intent(in) :: c\n",
      "        eq(1) = c + 2*d - 4 ! Eq_3\n",
      "    end subroutine block_1_equation\n",
      "\n",
      "    subroutine block_1_jacobian(d, c, jac)\n",
      "        use constants\n",
      "        implicit none\n",
      "        real(8), dimension(1, 1), intent(out) :: jac\n",
      "        real(8), intent(in) :: d\n",
      "        real(8), intent(in) :: c\n",
      "        jac(1, 1) = 2 ! d(Eq_3)/d(d)\n",
      "    end subroutine block_1_jacobian\n",
      "\n",
      "    subroutine block_2_equation(a, d, eq)\n",
      "        use constants\n",
      "        implicit none\n",
      "        real(8), dimension(1), intent(out) :: eq\n",
      "        real(8), intent(in) :: a\n",
      "        real(8), intent(in) :: d\n",
      "        eq(1) = -3*a - 3*d + 1 ! Eq_0\n",
      "    end subroutine block_2_equation\n",
      "\n",
      "    subroutine block_2_jacobian(a, d, jac)\n",
      "        use constants\n",
      "        implicit none\n",
      "        real(8), dimension(1, 1), intent(out) :: jac\n",
      "        real(8), intent(in) :: a\n",
      "        real(8), intent(in) :: d\n",
      "        jac(1, 1) = -3 ! d(Eq_0)/d(a)\n",
      "    end subroutine block_2_jacobian\n",
      "\n",
      "    subroutine block_3_equation(e, b, d, a, c, eq)\n",
      "        use constants\n",
      "        implicit none\n",
      "        real(8), dimension(2), intent(out) :: eq\n",
      "        real(8), intent(in) :: e\n",
      "        real(8), intent(in) :: b\n",
      "        real(8), intent(in) :: d\n",
      "        real(8), intent(in) :: a\n",
      "        real(8), intent(in) :: c\n",
      "        eq(1) = -5*a - 2*b - 3*c + 4*d + e - 4 ! Eq_4\n",
      "        eq(2) = 4*b - 3*e ! Eq_1\n",
      "    end subroutine block_3_equation\n",
      "\n",
      "    subroutine block_3_jacobian(e, b, d, a, c, jac)\n",
      "        use constants\n",
      "        implicit none\n",
      "        real(8), dimension(2, 2), intent(out) :: jac\n",
      "        real(8), intent(in) :: e\n",
      "        real(8), intent(in) :: b\n",
      "        real(8), intent(in) :: d\n",
      "        real(8), intent(in) :: a\n",
      "        real(8), intent(in) :: c\n",
      "        jac(1, 1) = 1 ! d(Eq_4)/d(e)\n",
      "        jac(1, 2) = -2 ! d(Eq_4)/d(b)\n",
      "        jac(2, 1) = -3 ! d(Eq_1)/d(e)\n",
      "        jac(2, 2) = 4 ! d(Eq_1)/d(b)\n",
      "    end subroutine block_3_jacobian\n",
      "\n",
      "end module blocks\n",
      "\n",
      "subroutine run_solver(log_path, condition, status, message)\n",
      "    use, intrinsic :: ieee_arithmetic\n",
      "    use constants\n",
      "    use variables\n",
      "    use blocks\n",
      "    implicit none\n",
      "    double precision dnrm2\n",
      "    external dnrm2\n",
      "\n",
      "    character(len=*), intent(in) :: log_path\n",
      "    real(8), dimension(0), intent(in) :: condition\n",
      "    integer, intent(out) :: status\n",
      "    character(len=100), intent(out) :: message\n",
      "\n",
      "    integer :: log_unit\n",
      "    integer :: ios\n",
      "\n",
      "    real(8), dimension(2) :: eq\n",
      "    real(8), dimension(2,2) :: jac\n",
      "    real(8), dimension(2) :: vars\n",
      "    integer, dimension(2) :: ipiv\n",
      "    integer :: info\n",
      "    real(8) :: residual\n",
      "    integer :: newton_iter\n",
      "    real(8) :: tol = 1e-8\n",
      "    integer :: i\n",
      "\n",
      "    print *, \"Started\"\n",
      "    print *, \"Output in \", log_path\n",
      "\n",
      "    open(unit=log_unit, file=log_path//\"log.bin\", form='unformatted',&\n",
      "         access='stream', status='replace', iostat=ios)\n",
      "    if (ios /= 0) then\n",
      "       print *, \"Error opening file: \", log_path//\"log.bin\"\n",
      "       stop 1\n",
      "    end if\n",
      "\n",
      "    ! --- Block 0 ---\n",
      "\n",
      "    call block_0_equation(c, eq)\n",
      "\n",
      "    do newton_iter = 1, 100\n",
      "        jac = 0\n",
      "\n",
      "        call block_0_jacobian(c, jac)\n",
      "\n",
      "        ! jac * r = eq; eq = r\n",
      "        call dgesv(1, 1, jac, 1, ipiv, eq, 1, info)\n",
      "\n",
      "        c = c - eq(1)\n",
      "        call block_0_equation(c, eq)\n",
      "\n",
      "        residual = dnrm2(1, eq, 1)\n",
      "\n",
      "        if (ieee_is_nan(residual)) then\n",
      "            write(message, '(\"Block 0, nan: \", i5, E10.4)') newton_iter, residual\n",
      "            status = 1\n",
      "            return\n",
      "        end if\n",
      "        if (residual < tol) exit\n",
      "    end do\n",
      "    if (residual >= tol) then\n",
      "        write(message, '(\"Block 0 not converging: \", i5, \", \", E10.4)') newton_iter, residual\n",
      "        status = 1\n",
      "        return\n",
      "    else\n",
      "        print \"('  Block 0 converged in ', i3, ' iterations, residual = ', E10.4)\", newton_iter, residual\n",
      "    end if\n",
      "\n",
      "    ! --- Block 1 ---\n",
      "\n",
      "    call block_1_equation(d, c, eq)\n",
      "\n",
      "    do newton_iter = 1, 100\n",
      "        jac = 0\n",
      "\n",
      "        call block_1_jacobian(d, c, jac)\n",
      "\n",
      "        ! jac * r = eq; eq = r\n",
      "        call dgesv(1, 1, jac, 1, ipiv, eq, 1, info)\n",
      "\n",
      "        d = d - eq(1)\n",
      "        call block_1_equation(d, c, eq)\n",
      "\n",
      "        residual = dnrm2(1, eq, 1)\n",
      "\n",
      "        if (ieee_is_nan(residual)) then\n",
      "            write(message, '(\"Block 1, nan: \", i5, E10.4)') newton_iter, residual\n",
      "            status = 1\n",
      "            return\n",
      "        end if\n",
      "        if (residual < tol) exit\n",
      "    end do\n",
      "    if (residual >= tol) then\n",
      "        write(message, '(\"Block 1 not converging: \", i5, \", \", E10.4)') newton_iter, residual\n",
      "        status = 1\n",
      "        return\n",
      "    else\n",
      "        print \"('  Block 1 converged in ', i3, ' iterations, residual = ', E10.4)\", newton_iter, residual\n",
      "    end if\n",
      "\n",
      "    ! --- Block 2 ---\n",
      "\n",
      "    call block_2_equation(a, d, eq)\n",
      "\n",
      "    do newton_iter = 1, 100\n",
      "        jac = 0\n",
      "\n",
      "        call block_2_jacobian(a, d, jac)\n",
      "\n",
      "        ! jac * r = eq; eq = r\n",
      "        call dgesv(1, 1, jac, 1, ipiv, eq, 1, info)\n",
      "\n",
      "        a = a - eq(1)\n",
      "        call block_2_equation(a, d, eq)\n",
      "\n",
      "        residual = dnrm2(1, eq, 1)\n",
      "\n",
      "        if (ieee_is_nan(residual)) then\n",
      "            write(message, '(\"Block 2, nan: \", i5, E10.4)') newton_iter, residual\n",
      "            status = 1\n",
      "            return\n",
      "        end if\n",
      "        if (residual < tol) exit\n",
      "    end do\n",
      "    if (residual >= tol) then\n",
      "        write(message, '(\"Block 2 not converging: \", i5, \", \", E10.4)') newton_iter, residual\n",
      "        status = 1\n",
      "        return\n",
      "    else\n",
      "        print \"('  Block 2 converged in ', i3, ' iterations, residual = ', E10.4)\", newton_iter, residual\n",
      "    end if\n",
      "\n",
      "    ! --- Block 3 ---\n",
      "\n",
      "    call block_3_equation(e, b, d, a, c, eq)\n",
      "\n",
      "    do newton_iter = 1, 100\n",
      "        jac = 0\n",
      "\n",
      "        call block_3_jacobian(e, b, d, a, c, jac)\n",
      "\n",
      "        ! jac * r = eq; eq = r\n",
      "        call dgesv(2, 1, jac, 2, ipiv, eq, 2, info)\n",
      "\n",
      "        e = e - eq(1)\n",
      "        b = b - eq(2)\n",
      "        call block_3_equation(e, b, d, a, c, eq)\n",
      "\n",
      "        residual = dnrm2(2, eq, 1)\n",
      "\n",
      "        if (ieee_is_nan(residual)) then\n",
      "            write(message, '(\"Block 3, nan: \", i5, E10.4)') newton_iter, residual\n",
      "            status = 1\n",
      "            return\n",
      "        end if\n",
      "        if (residual < tol) exit\n",
      "    end do\n",
      "    if (residual >= tol) then\n",
      "        write(message, '(\"Block 3 not converging: \", i5, \", \", E10.4)') newton_iter, residual\n",
      "        status = 1\n",
      "        return\n",
      "    else\n",
      "        print \"('  Block 3 converged in ', i3, ' iterations, residual = ', E10.4)\", newton_iter, residual\n",
      "    end if\n",
      "\n",
      "    write (log_unit) a\n",
      "    write (log_unit) b\n",
      "    write (log_unit) c\n",
      "    write (log_unit) d\n",
      "    write (log_unit) e\n",
      "\n",
      "    print *, \"Completed\"\n",
      "    close(log_unit)\n",
      "end subroutine run_solver\n",
      "\n",
      "/var/folders/4n/_jcnzrss7571s_0zzmtzqtsr0000gn/T/tmpyouwu7py\n"
     ]
    },
    {
     "name": "stderr",
     "output_type": "stream",
     "text": [
      "ld: warning: ignoring duplicate libraries: '-lgfortran'\n"
     ]
    },
    {
     "name": "stdout",
     "output_type": "stream",
     "text": [
      " Started\n",
      " Output in /Users/yuuki.fj/Develop/mechanics/examples/result/20250716_031740/\n",
      "  Block 0 converged in   1 iterations, residual = 0.0000E+00\n",
      "  Block 1 converged in   1 iterations, residual = 0.0000E+00\n",
      "  Block 2 converged in   1 iterations, residual = 0.4441E-15\n",
      "  Block 3 converged in   1 iterations, residual = 0.3553E-14\n",
      " Completed\n"
     ]
    }
   ],
   "source": [
    "solver = system.solver()\n",
    "# solver.plot_dependencies()\n",
    "result = solver.run({})"
   ]
  },
  {
   "cell_type": "code",
   "execution_count": null,
   "id": "1ad1f9b9",
   "metadata": {},
   "outputs": [
    {
     "name": "stdout",
     "output_type": "stream",
     "text": [
      "x = [-1.04166667  4.4375      1.25        1.375       5.91666667]\n",
      "Ax = [-1.00000000e+00  3.55271368e-15  5.00000000e+00  4.00000000e+00\n",
      "  4.00000000e+00]\n",
      "b = [-1  0  5  4  4]\n"
     ]
    },
    {
     "ename": "AssertionError",
     "evalue": "\nNot equal to tolerance rtol=1e-07, atol=0\n\nMismatched elements: 1 / 5 (20%)\nMax absolute difference: 3.55271368e-15\nMax relative difference: 4.4408921e-16\n x: array([-1.000000e+00,  3.552714e-15,  5.000000e+00,  4.000000e+00,\n        4.000000e+00])\n y: array([-1,  0,  5,  4,  4])",
     "output_type": "error",
     "traceback": [
      "\u001b[0;31m---------------------------------------------------------------------------\u001b[0m",
      "\u001b[0;31mAssertionError\u001b[0m                            Traceback (most recent call last)",
      "Cell \u001b[0;32mIn[228], line 5\u001b[0m\n\u001b[1;32m      3\u001b[0m \u001b[38;5;28mprint\u001b[39m(\u001b[38;5;124mf\u001b[39m\u001b[38;5;124m\"\u001b[39m\u001b[38;5;124mAx = \u001b[39m\u001b[38;5;132;01m{\u001b[39;00mA\u001b[38;5;241m.\u001b[39mdot(x)\u001b[38;5;132;01m}\u001b[39;00m\u001b[38;5;124m\"\u001b[39m)\n\u001b[1;32m      4\u001b[0m \u001b[38;5;28mprint\u001b[39m(\u001b[38;5;124mf\u001b[39m\u001b[38;5;124m\"\u001b[39m\u001b[38;5;124mb = \u001b[39m\u001b[38;5;132;01m{\u001b[39;00mb\u001b[38;5;132;01m}\u001b[39;00m\u001b[38;5;124m\"\u001b[39m)\n\u001b[0;32m----> 5\u001b[0m \u001b[43mnp\u001b[49m\u001b[38;5;241;43m.\u001b[39;49m\u001b[43mtesting\u001b[49m\u001b[38;5;241;43m.\u001b[39;49m\u001b[43massert_allclose\u001b[49m\u001b[43m(\u001b[49m\u001b[43mA\u001b[49m\u001b[38;5;241;43m.\u001b[39;49m\u001b[43mdot\u001b[49m\u001b[43m(\u001b[49m\u001b[43mx\u001b[49m\u001b[43m)\u001b[49m\u001b[43m,\u001b[49m\u001b[43m \u001b[49m\u001b[43mb\u001b[49m\u001b[43m)\u001b[49m\n",
      "    \u001b[0;31m[... skipping hidden 1 frame]\u001b[0m\n",
      "File \u001b[0;32m~/.pyenv/versions/3.11.2/lib/python3.11/contextlib.py:81\u001b[0m, in \u001b[0;36mContextDecorator.__call__.<locals>.inner\u001b[0;34m(*args, **kwds)\u001b[0m\n\u001b[1;32m     78\u001b[0m \u001b[38;5;129m@wraps\u001b[39m(func)\n\u001b[1;32m     79\u001b[0m \u001b[38;5;28;01mdef\u001b[39;00m \u001b[38;5;21minner\u001b[39m(\u001b[38;5;241m*\u001b[39margs, \u001b[38;5;241m*\u001b[39m\u001b[38;5;241m*\u001b[39mkwds):\n\u001b[1;32m     80\u001b[0m     \u001b[38;5;28;01mwith\u001b[39;00m \u001b[38;5;28mself\u001b[39m\u001b[38;5;241m.\u001b[39m_recreate_cm():\n\u001b[0;32m---> 81\u001b[0m         \u001b[38;5;28;01mreturn\u001b[39;00m \u001b[43mfunc\u001b[49m\u001b[43m(\u001b[49m\u001b[38;5;241;43m*\u001b[39;49m\u001b[43margs\u001b[49m\u001b[43m,\u001b[49m\u001b[43m \u001b[49m\u001b[38;5;241;43m*\u001b[39;49m\u001b[38;5;241;43m*\u001b[39;49m\u001b[43mkwds\u001b[49m\u001b[43m)\u001b[49m\n",
      "File \u001b[0;32m~/.pyenv/versions/3.11.2/lib/python3.11/site-packages/numpy/testing/_private/utils.py:862\u001b[0m, in \u001b[0;36massert_array_compare\u001b[0;34m(comparison, x, y, err_msg, verbose, header, precision, equal_nan, equal_inf, strict)\u001b[0m\n\u001b[1;32m    858\u001b[0m         err_msg \u001b[38;5;241m+\u001b[39m\u001b[38;5;241m=\u001b[39m \u001b[38;5;124m'\u001b[39m\u001b[38;5;130;01m\\n\u001b[39;00m\u001b[38;5;124m'\u001b[39m \u001b[38;5;241m+\u001b[39m \u001b[38;5;124m'\u001b[39m\u001b[38;5;130;01m\\n\u001b[39;00m\u001b[38;5;124m'\u001b[39m\u001b[38;5;241m.\u001b[39mjoin(remarks)\n\u001b[1;32m    859\u001b[0m         msg \u001b[38;5;241m=\u001b[39m build_err_msg([ox, oy], err_msg,\n\u001b[1;32m    860\u001b[0m                             verbose\u001b[38;5;241m=\u001b[39mverbose, header\u001b[38;5;241m=\u001b[39mheader,\n\u001b[1;32m    861\u001b[0m                             names\u001b[38;5;241m=\u001b[39m(\u001b[38;5;124m'\u001b[39m\u001b[38;5;124mx\u001b[39m\u001b[38;5;124m'\u001b[39m, \u001b[38;5;124m'\u001b[39m\u001b[38;5;124my\u001b[39m\u001b[38;5;124m'\u001b[39m), precision\u001b[38;5;241m=\u001b[39mprecision)\n\u001b[0;32m--> 862\u001b[0m         \u001b[38;5;28;01mraise\u001b[39;00m \u001b[38;5;167;01mAssertionError\u001b[39;00m(msg)\n\u001b[1;32m    863\u001b[0m \u001b[38;5;28;01mexcept\u001b[39;00m \u001b[38;5;167;01mValueError\u001b[39;00m:\n\u001b[1;32m    864\u001b[0m     \u001b[38;5;28;01mimport\u001b[39;00m \u001b[38;5;21;01mtraceback\u001b[39;00m\n",
      "\u001b[0;31mAssertionError\u001b[0m: \nNot equal to tolerance rtol=1e-07, atol=0\n\nMismatched elements: 1 / 5 (20%)\nMax absolute difference: 3.55271368e-15\nMax relative difference: 4.4408921e-16\n x: array([-1.000000e+00,  3.552714e-15,  5.000000e+00,  4.000000e+00,\n        4.000000e+00])\n y: array([-1,  0,  5,  4,  4])"
     ]
    }
   ],
   "source": [
    "x = np.array([ result[var] for var in vars ])\n",
    "print(f\"x = {x}\")\n",
    "print(f\"Ax = {A.dot(x)}\")\n",
    "print(f\"b = {b}\")\n",
    "np.testing.assert_allclose(A.dot(x), b, atol=1e-10)"
   ]
  },
  {
   "cell_type": "code",
   "execution_count": null,
   "id": "1effb926",
   "metadata": {},
   "outputs": [],
   "source": []
  }
 ],
 "metadata": {
  "kernelspec": {
   "display_name": "3.11.2",
   "language": "python",
   "name": "python3"
  },
  "language_info": {
   "codemirror_mode": {
    "name": "ipython",
    "version": 3
   },
   "file_extension": ".py",
   "mimetype": "text/x-python",
   "name": "python",
   "nbconvert_exporter": "python",
   "pygments_lexer": "ipython3",
   "version": "3.11.2"
  }
 },
 "nbformat": 4,
 "nbformat_minor": 5
}
