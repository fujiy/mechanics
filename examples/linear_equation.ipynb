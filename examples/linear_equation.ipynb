{
 "cells": [
  {
   "cell_type": "code",
   "execution_count": 58,
   "id": "9cb28e4d",
   "metadata": {},
   "outputs": [
    {
     "name": "stdout",
     "output_type": "stream",
     "text": [
      "The autoreload extension is already loaded. To reload it, use:\n",
      "  %reload_ext autoreload\n"
     ]
    }
   ],
   "source": [
    "%reset -f\n",
    "%load_ext autoreload\n",
    "%autoreload 2"
   ]
  },
  {
   "cell_type": "code",
   "execution_count": 59,
   "id": "cca9fcf4",
   "metadata": {},
   "outputs": [
    {
     "name": "stdout",
     "output_type": "stream",
     "text": [
      "A.shape = (5, 5), non zero = 12, rank = 5\n",
      "[[-3 -4  4  0  0]\n",
      " [ 5 -3  0 -3 -4]\n",
      " [ 1  0 -1  0  0]\n",
      " [ 0  0  0 -2  3]\n",
      " [ 0  0  0  0 -5]]\n",
      "[1 1 2 5 0]\n"
     ]
    }
   ],
   "source": [
    "import numpy as np\n",
    "from scipy.sparse import lil_matrix\n",
    "\n",
    "\n",
    "def generate_full_rank_sparse_integer_system(N, density=0.01, value_range=(-10, 10), random_state=None):\n",
    "    \"\"\"\n",
    "    フルランクなスパース整数連立一次方程式 Ax = b を生成する。\n",
    "    \n",
    "    N: 変数（=行数=列数）\n",
    "    density: 全体に占める非ゼロ要素割合\n",
    "    value_range: 非ゼロ整数値の範囲（例：(-5, 5)）\n",
    "    \"\"\"\n",
    "    if random_state is not None:\n",
    "        np.random.seed(random_state)\n",
    "\n",
    "    A = lil_matrix((N, N), dtype=int)\n",
    "\n",
    "    # ステップ1: 各行に1つ以上の非ゼロ（対角線に1を置くことでrankを確保）\n",
    "    for i in range(N):\n",
    "        val = 0\n",
    "        while val == 0:\n",
    "            val = np.random.randint(value_range[0], value_range[1] + 1)\n",
    "        A[i, i] = val\n",
    "\n",
    "    # ステップ2: ランダムな位置に追加で非ゼロ整数を入れる（スパース性の調整）\n",
    "    total_nonzeros_target = int(N * N * density)\n",
    "    current_nonzeros = N  # すでに対角にN個ある\n",
    "    while current_nonzeros < total_nonzeros_target:\n",
    "        i = np.random.randint(0, N)\n",
    "        j = np.random.randint(0, N)\n",
    "        if A[i, j] == 0:\n",
    "            val = 0\n",
    "            while val == 0:\n",
    "                val = np.random.randint(value_range[0], value_range[1] + 1)\n",
    "            A[i, j] = val\n",
    "            current_nonzeros += 1\n",
    "\n",
    "    # bベクトルも整数で\n",
    "    b = np.random.randint(value_range[0], value_range[1] + 1, size=N)\n",
    "\n",
    "    return A.tocsr(), b\n",
    "\n",
    "N = 5\n",
    "A, b = generate_full_rank_sparse_integer_system(N, density=0.5, value_range=(-5, 5))\n",
    "\n",
    "print(f\"A.shape = {A.shape}, non zero = {A.nnz}, rank = {np.linalg.matrix_rank(A.toarray())}\")\n",
    "print(A.toarray()) \n",
    "print(b)"
   ]
  },
  {
   "cell_type": "code",
   "execution_count": 60,
   "id": "47911402",
   "metadata": {},
   "outputs": [
    {
     "data": {
      "text/latex": [
       "$\\displaystyle \\mathrm{Variables}:\\left( a, \\  b, \\  c, \\  d, \\  e\\right)$"
      ],
      "text/plain": [
       "<IPython.core.display.Math object>"
      ]
     },
     "metadata": {},
     "output_type": "display_data"
    },
    {
     "data": {
      "text/latex": [
       "$\\displaystyle \\mathrm{Equations}$"
      ],
      "text/plain": [
       "<IPython.core.display.Math object>"
      ]
     },
     "metadata": {},
     "output_type": "display_data"
    },
    {
     "data": {
      "text/latex": [
       "$\\displaystyle Eq_0:- 3 a - 4 b + 4 c = 1$"
      ],
      "text/plain": [
       "<IPython.core.display.Math object>"
      ]
     },
     "metadata": {},
     "output_type": "display_data"
    },
    {
     "data": {
      "text/latex": [
       "$\\displaystyle Eq_1:5 a - 3 b - 3 d - 4 e = 1$"
      ],
      "text/plain": [
       "<IPython.core.display.Math object>"
      ]
     },
     "metadata": {},
     "output_type": "display_data"
    },
    {
     "data": {
      "text/latex": [
       "$\\displaystyle Eq_2:a - c = 2$"
      ],
      "text/plain": [
       "<IPython.core.display.Math object>"
      ]
     },
     "metadata": {},
     "output_type": "display_data"
    },
    {
     "data": {
      "text/latex": [
       "$\\displaystyle Eq_3:- 2 d + 3 e = 5$"
      ],
      "text/plain": [
       "<IPython.core.display.Math object>"
      ]
     },
     "metadata": {},
     "output_type": "display_data"
    },
    {
     "data": {
      "text/latex": [
       "$\\displaystyle Eq_4:- 5 e = 0$"
      ],
      "text/plain": [
       "<IPython.core.display.Math object>"
      ]
     },
     "metadata": {},
     "output_type": "display_data"
    },
    {
     "data": {
      "text/plain": [
       "<mechanics.system.System at 0x128feea50>"
      ]
     },
     "execution_count": 60,
     "metadata": {},
     "output_type": "execute_result"
    }
   ],
   "source": [
    "from mechanics import *\n",
    "import string\n",
    "\n",
    "vars = string.ascii_lowercase[:N]\n",
    "\n",
    "system = (\n",
    "    System()\n",
    "    .add_variable(' '.join(vars))\n",
    ")\n",
    "for i in range(N):\n",
    "    system.equate(\n",
    "        '+'.join([f'{A[i, j]}*{vars[j]}' for j in range(N)]),\n",
    "        b[i],\n",
    "    )\n",
    "system.show_all()"
   ]
  },
  {
   "cell_type": "code",
   "execution_count": 63,
   "id": "29bac5e8",
   "metadata": {},
   "outputs": [
    {
     "name": "stdout",
     "output_type": "stream",
     "text": [
      "Indices: ()\n",
      "match [Eq_0 <- b, {}, Eq_1 <- a, {}, Eq_2 <- c, {}, Eq_3 <- d, {}, Eq_4 <- e, {}]\n",
      "Edges: ['Eq_0 -> b, c, a', 'b -> Eq_0', 'Eq_1 -> b, d, e, a', 'a -> Eq_1', 'Eq_2 -> c, a', 'c -> Eq_2', 'Eq_3 -> d, e', 'd -> Eq_3', 'Eq_4 -> e', 'e -> Eq_4']\n",
      "Block #0(equations=('Eq_4',), unknowns=(e,)), knowns=())\n",
      "Block #1(equations=('Eq_3',), unknowns=(d,)), knowns=(e,))\n",
      "Block #2(equations=('Eq_2', 'Eq_0', 'Eq_1'), unknowns=(b, a, c)), knowns=(d, e))\n"
     ]
    },
    {
     "data": {
      "image/png": "[encoded data removed]",
      "text/plain": [
       "<Figure size 500x500 with 1 Axes>"
      ]
     },
     "metadata": {},
     "output_type": "display_data"
    }
   ],
   "source": [
    "solver = system.solver()\n",
    "solver.plot_dependencies()\n",
    "# solver.plot_jacobian()\n",
    "# solver.print_jacobian()"
   ]
  },
  {
   "cell_type": "code",
   "execution_count": null,
   "id": "29df7e85",
   "metadata": {},
   "outputs": [
    {
     "ename": "TypeError",
     "evalue": "Solver.run() missing 1 required positional argument: 'condition'",
     "output_type": "error",
     "traceback": [
      "\u001b[0;31m---------------------------------------------------------------------------\u001b[0m",
      "\u001b[0;31mTypeError\u001b[0m                                 Traceback (most recent call last)",
      "Cell \u001b[0;32mIn[64], line 1\u001b[0m\n\u001b[0;32m----> 1\u001b[0m \u001b[43msolver\u001b[49m\u001b[38;5;241;43m.\u001b[39;49m\u001b[43mrun\u001b[49m\u001b[43m(\u001b[49m\u001b[43m)\u001b[49m\n",
      "\u001b[0;31mTypeError\u001b[0m: Solver.run() missing 1 required positional argument: 'condition'"
     ]
    }
   ],
   "source": [
    "solver.run({})"
   ]
  }
 ],
 "metadata": {
  "kernelspec": {
   "display_name": "3.11.2",
   "language": "python",
   "name": "python3"
  },
  "language_info": {
   "codemirror_mode": {
    "name": "ipython",
    "version": 3
   },
   "file_extension": ".py",
   "mimetype": "text/x-python",
   "name": "python",
   "nbconvert_exporter": "python",
   "pygments_lexer": "ipython3",
   "version": "3.11.2"
  }
 },
 "nbformat": 4,
 "nbformat_minor": 5
}
