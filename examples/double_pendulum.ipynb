{
 "cells": [
  {
   "cell_type": "code",
   "execution_count": 2,
   "metadata": {},
   "outputs": [
    {
     "name": "stdout",
     "output_type": "stream",
     "text": [
      "The autoreload extension is already loaded. To reload it, use:\n",
      "  %reload_ext autoreload\n",
      "atoms1 x(n, t) Piecewise((l(n,)*cos(\\theta(n, t)), Eq(n, 1)), (l(n,)*cos(\\theta(n, t)) + x(1, t), Eq(n, 2)))\n",
      "atoms2 (n, t) Piecewise((l(n,)*cos(\\theta(n, t)), Eq(n, 1)), (l(n,)*cos(\\theta(n, t)) + x(1, t), Eq(n, 2)))\n",
      "atoms1 x(1, t) l(1,)*cos(\\theta(1, t))\n",
      "atoms2 (1, t) l(1,)*cos(\\theta(1, t))\n",
      "atoms1 y(n, t) Piecewise((l(n,)*sin(\\theta(n, t)), Eq(n, 1)), (l(n,)*sin(\\theta(n, t)) + y(1, t), Eq(n, 2)))\n",
      "atoms2 (n, t) Piecewise((l(n,)*sin(\\theta(n, t)), Eq(n, 1)), (l(n,)*sin(\\theta(n, t)) + y(1, t), Eq(n, 2)))\n",
      "atoms1 y(1, t) l(1,)*sin(\\theta(1, t))\n",
      "atoms2 (1, t) l(1,)*sin(\\theta(1, t))\n"
     ]
    },
    {
     "data": {
      "text/latex": [
       "$\\displaystyle Q = S \\ni \\theta_{n}$"
      ],
      "text/plain": [
       "<IPython.core.display.Math object>"
      ]
     },
     "metadata": {},
     "output_type": "display_data"
    },
    {
     "data": {
      "text/latex": [
       "$\\displaystyle \\mathrm{constants}: $"
      ],
      "text/plain": [
       "<IPython.core.display.Math object>"
      ]
     },
     "metadata": {},
     "output_type": "display_data"
    },
    {
     "data": {
      "text/latex": [
       "$\\displaystyle \\mathrm{variables}: m, g, l_{n}$"
      ],
      "text/plain": [
       "<IPython.core.display.Math object>"
      ]
     },
     "metadata": {},
     "output_type": "display_data"
    },
    {
     "data": {
      "text/latex": [
       "$\\displaystyle \\mathrm{definitions}:$"
      ],
      "text/plain": [
       "<IPython.core.display.Math object>"
      ]
     },
     "metadata": {},
     "output_type": "display_data"
    },
    {
     "data": {
      "text/latex": [
       "$\\displaystyle x_{n} = \\begin{cases} l_{n} \\cos{\\left(\\theta_{n} \\right)} & \\text{for}\\: n = 1 \\\\l_{n} \\cos{\\left(\\theta_{n} \\right)} + x_{1} & \\text{for}\\: n = 2 \\end{cases}$"
      ],
      "text/plain": [
       "<IPython.core.display.Math object>"
      ]
     },
     "metadata": {},
     "output_type": "display_data"
    },
    {
     "data": {
      "text/latex": [
       "$\\displaystyle y_{n} = \\begin{cases} l_{n} \\sin{\\left(\\theta_{n} \\right)} & \\text{for}\\: n = 1 \\\\l_{n} \\sin{\\left(\\theta_{n} \\right)} + y_{1} & \\text{for}\\: n = 2 \\end{cases}$"
      ],
      "text/plain": [
       "<IPython.core.display.Math object>"
      ]
     },
     "metadata": {},
     "output_type": "display_data"
    },
    {
     "data": {
      "text/latex": [
       "$\\displaystyle T = \\frac{\\left(2 {l_{1}}^2 \\dot{\\theta_{1}}^{2} + 2 l_{1} l_{2} \\cos{\\left(\\theta_{1} - \\theta_{2} \\right)} \\dot{\\theta_{1}} \\dot{\\theta_{2}} + {l_{2}}^2 \\dot{\\theta_{2}}^{2}\\right) m}{2}$"
      ],
      "text/plain": [
       "<IPython.core.display.Math object>"
      ]
     },
     "metadata": {},
     "output_type": "display_data"
    },
    {
     "data": {
      "text/latex": [
       "$\\displaystyle U = \\left(y_{1} + y_{2}\\right) g m$"
      ],
      "text/plain": [
       "<IPython.core.display.Math object>"
      ]
     },
     "metadata": {},
     "output_type": "display_data"
    },
    {
     "data": {
      "text/latex": [
       "$\\displaystyle L = T - U$"
      ],
      "text/plain": [
       "<IPython.core.display.Math object>"
      ]
     },
     "metadata": {},
     "output_type": "display_data"
    },
    {
     "data": {
      "text/latex": [
       "$\\displaystyle E = T + U$"
      ],
      "text/plain": [
       "<IPython.core.display.Math object>"
      ]
     },
     "metadata": {},
     "output_type": "display_data"
    },
    {
     "data": {
      "text/latex": [
       "$\\displaystyle \\begin{cases} l_{n} \\sin{\\left(\\theta_{n} \\right)} & \\text{for}\\: n = 1 \\\\l_{n} \\sin{\\left(\\theta_{n} \\right)} + y_{1} & \\text{for}\\: n = 2 \\end{cases}$"
      ],
      "text/plain": [
       "Piecewise((l(n,)*sin(\\theta(n, t)), Eq(n, 1)), (l(n,)*sin(\\theta(n, t)) + y(1, t), Eq(n, 2)))"
      ]
     },
     "metadata": {},
     "output_type": "display_data"
    },
    {
     "name": "stdout",
     "output_type": "stream",
     "text": [
      "expr 13252893808 Piecewise((l(_d,)*sin(\\theta(_d, t)), Eq(_d, 1)), (l(_d,)*sin(\\theta(_d, t)) + y(1, t), Eq(_d, 2)))\n",
      "atoms1 y(1, t) Piecewise((l(_d,)*sin(\\theta(_d, t)), Eq(_d, 1)), (l(_d,)*sin(\\theta(_d, t)) + y(1, t), Eq(_d, 2)))\n",
      "atoms2 (1, t) Piecewise((l(_d,)*sin(\\theta(_d, t)), Eq(_d, 1)), (l(_d,)*sin(\\theta(_d, t)) + y(1, t), Eq(_d, 2)))\n"
     ]
    },
    {
     "data": {
      "text/latex": [
       "$\\displaystyle \\begin{cases} l_{1} \\sin{\\left(\\theta_{1} \\right)} + l_{2} \\sin{\\left(\\theta_{2} \\right)} & \\text{for}\\: d = 1 \\\\2 l_{2} \\sin{\\left(\\theta_{2} \\right)} + y_{1} & \\text{for}\\: d = 2 \\end{cases}$"
      ],
      "text/plain": [
       "<IPython.core.display.Math object>"
      ]
     },
     "metadata": {},
     "output_type": "display_data"
    }
   ],
   "source": [
    "%reset -f\n",
    "%load_ext autoreload\n",
    "%autoreload 2\n",
    "from mechanics import System, S\n",
    "\n",
    "system = (\n",
    "    System()\n",
    "    .add_index('n', 1, 2)\n",
    "    .add_coordinate(r'\\theta', index='n', space=S)\n",
    "    .add_constant('m g')\n",
    "    .add_constant('l', index='n')\n",
    "    .define('x y', 'l * cos(theta), l * sin(theta)', ('n', 1))\n",
    "    .define('x y', 'x[1] + l * cos(theta), y[1] + l * sin(theta)', ('n', 2))\n",
    "    .define('T', 'm/2 * (diff(x, t)**2 + diff(y, t)**2)', sum_for='n')\n",
    "    .define('U', 'm * g * y', sum_for='n')\n",
    "    .define('L', 'T - U')\n",
    "    .define('E', 'T + U')\n",
    "    # .euler_lagrange_equation('L')\n",
    ")\n",
    "system.show_all()\n",
    "# system.show('y[2]', evaluate=True)\n",
    "\n",
    "# display(system.y[1].single_expr)\n",
    "# display(system.y[1]._expr)\n",
    "# display(system.y[1])\n",
    "display(system.y._expr)\n",
    "system.show('y[2]', evaluate=True)\n",
    "# system.show('U', evaluate=True)\n",
    "# system('L', evaluate=True)"
   ]
  },
  {
   "cell_type": "code",
   "execution_count": 2,
   "metadata": {},
   "outputs": [
    {
     "ename": "AttributeError",
     "evalue": "'discretize' is not exists",
     "output_type": "error",
     "traceback": [
      "\u001b[0;31m---------------------------------------------------------------------------\u001b[0m",
      "\u001b[0;31mAttributeError\u001b[0m                            Traceback (most recent call last)",
      "Cell \u001b[0;32mIn[2], line 2\u001b[0m\n\u001b[1;32m      1\u001b[0m system_d \u001b[38;5;241m=\u001b[39m (\u001b[43msystem\u001b[49m\n\u001b[0;32m----> 2\u001b[0m \u001b[43m    \u001b[49m\u001b[38;5;241;43m.\u001b[39;49m\u001b[43mdiscretize\u001b[49m(\u001b[38;5;124m'\u001b[39m\u001b[38;5;124mi\u001b[39m\u001b[38;5;124m'\u001b[39m, \u001b[38;5;241m0\u001b[39m, \u001b[38;5;124m'\u001b[39m\u001b[38;5;124mN\u001b[39m\u001b[38;5;124m'\u001b[39m, \u001b[38;5;124m'\u001b[39m\u001b[38;5;124mh\u001b[39m\u001b[38;5;124m'\u001b[39m)\n\u001b[1;32m      3\u001b[0m )\n\u001b[1;32m      4\u001b[0m system_d\u001b[38;5;241m.\u001b[39mindices\n",
      "File \u001b[0;32m~/Develop/mechanics/mechanics/system.py:295\u001b[0m, in \u001b[0;36mSystem.__getattr__\u001b[0;34m(self, name)\u001b[0m\n\u001b[1;32m    293\u001b[0m \u001b[38;5;28;01mdef\u001b[39;00m \u001b[38;5;21m__getattr__\u001b[39m(\u001b[38;5;28mself\u001b[39m, name: \u001b[38;5;28mstr\u001b[39m) \u001b[38;5;241m-\u001b[39m\u001b[38;5;241m>\u001b[39m sp\u001b[38;5;241m.\u001b[39mExpr:\n\u001b[1;32m    294\u001b[0m     \u001b[38;5;28;01mif\u001b[39;00m name \u001b[38;5;129;01min\u001b[39;00m \u001b[38;5;28mself\u001b[39m\u001b[38;5;241m.\u001b[39m_dict: \u001b[38;5;28;01mreturn\u001b[39;00m \u001b[38;5;28mself\u001b[39m\u001b[38;5;241m.\u001b[39m_dict[name]\n\u001b[0;32m--> 295\u001b[0m     \u001b[38;5;28;01melse\u001b[39;00m:                  \u001b[38;5;28;01mraise\u001b[39;00m \u001b[38;5;167;01mAttributeError\u001b[39;00m(\u001b[38;5;124mf\u001b[39m\u001b[38;5;124m'\u001b[39m\u001b[38;5;130;01m\\'\u001b[39;00m\u001b[38;5;132;01m{\u001b[39;00mname\u001b[38;5;132;01m}\u001b[39;00m\u001b[38;5;130;01m\\'\u001b[39;00m\u001b[38;5;124m is not exists\u001b[39m\u001b[38;5;124m'\u001b[39m)\n",
      "\u001b[0;31mAttributeError\u001b[0m: 'discretize' is not exists"
     ]
    }
   ],
   "source": [
    "system_d = (system\n",
    "    .discretize('i', 0, 'N', 'h')\n",
    ")\n",
    "system_d.indices"
   ]
  },
  {
   "cell_type": "code",
   "execution_count": 35,
   "metadata": {},
   "outputs": [
    {
     "data": {
      "text/plain": [
       "()"
      ]
     },
     "execution_count": 35,
     "metadata": {},
     "output_type": "execute_result"
    }
   ],
   "source": [
    "system.base_space_of('g')"
   ]
  },
  {
   "cell_type": "code",
   "execution_count": 10,
   "metadata": {},
   "outputs": [
    {
     "data": {
      "text/latex": [
       "$\\displaystyle N + 1$"
      ],
      "text/plain": [
       "N + 1"
      ]
     },
     "execution_count": 10,
     "metadata": {},
     "output_type": "execute_result"
    }
   ],
   "source": [
    "IndexedBase('N') + 1"
   ]
  },
  {
   "cell_type": "code",
   "execution_count": 53,
   "metadata": {},
   "outputs": [
    {
     "data": {
      "text/latex": [
       "$\\displaystyle \\frac{d}{d t} \\left( r, \\  \\theta\\right)$"
      ],
      "text/plain": [
       "Derivative((r, \\theta), t)"
      ]
     },
     "execution_count": 53,
     "metadata": {},
     "output_type": "execute_result"
    }
   ],
   "source": [
    "diff((system.r, system.theta), system.t)"
   ]
  },
  {
   "cell_type": "code",
   "execution_count": 4,
   "metadata": {},
   "outputs": [
    {
     "data": {
      "text/latex": [
       "$\\displaystyle x^2$"
      ],
      "text/plain": [
       "x**2"
      ]
     },
     "execution_count": 4,
     "metadata": {},
     "output_type": "execute_result"
    }
   ],
   "source": [
    "system('x**2')"
   ]
  },
  {
   "cell_type": "code",
   "execution_count": 30,
   "metadata": {},
   "outputs": [],
   "source": [
    "[2].extend((1,2))"
   ]
  },
  {
   "cell_type": "code",
   "execution_count": 10,
   "metadata": {},
   "outputs": [
    {
     "data": {
      "text/plain": [
       "[2]"
      ]
     },
     "execution_count": 10,
     "metadata": {},
     "output_type": "execute_result"
    }
   ],
   "source": [
    "[1,2,3][1:2]"
   ]
  },
  {
   "cell_type": "code",
   "execution_count": 5,
   "metadata": {},
   "outputs": [
    {
     "data": {
      "text/plain": [
       "2"
      ]
     },
     "execution_count": 5,
     "metadata": {},
     "output_type": "execute_result"
    }
   ],
   "source": [
    "() or 2"
   ]
  },
  {
   "cell_type": "code",
   "execution_count": 5,
   "metadata": {},
   "outputs": [
    {
     "ename": "TypeError",
     "evalue": "'int' object is not iterable",
     "output_type": "error",
     "traceback": [
      "\u001b[0;31m---------------------------------------------------------------------------\u001b[0m",
      "\u001b[0;31mTypeError\u001b[0m                                 Traceback (most recent call last)",
      "Cell \u001b[0;32mIn[5], line 1\u001b[0m\n\u001b[0;32m----> 1\u001b[0m \u001b[38;5;28;43mtuple\u001b[39;49m\u001b[43m(\u001b[49m\u001b[38;5;241;43m1\u001b[39;49m\u001b[43m,\u001b[49m\u001b[43m)\u001b[49m\n",
      "\u001b[0;31mTypeError\u001b[0m: 'int' object is not iterable"
     ]
    }
   ],
   "source": [
    "tuple(1,)"
   ]
  },
  {
   "cell_type": "code",
   "execution_count": null,
   "metadata": {},
   "outputs": [],
   "source": []
  }
 ],
 "metadata": {
  "kernelspec": {
   "display_name": "Python 3",
   "language": "python",
   "name": "python3"
  },
  "language_info": {
   "codemirror_mode": {
    "name": "ipython",
    "version": 3
   },
   "file_extension": ".py",
   "mimetype": "text/x-python",
   "name": "python",
   "nbconvert_exporter": "python",
   "pygments_lexer": "ipython3",
   "version": "3.11.2"
  }
 },
 "nbformat": 4,
 "nbformat_minor": 2
}
