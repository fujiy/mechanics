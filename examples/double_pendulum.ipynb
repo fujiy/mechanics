{
 "cells": [
  {
   "cell_type": "code",
   "execution_count": 29,
   "metadata": {},
   "outputs": [
    {
     "name": "stdout",
     "output_type": "stream",
     "text": [
      "The autoreload extension is already loaded. To reload it, use:\n",
      "  %reload_ext autoreload\n"
     ]
    },
    {
     "data": {
      "text/latex": [
       "$\\displaystyle T - U$"
      ],
      "text/plain": [
       "T - U"
      ]
     },
     "execution_count": 29,
     "metadata": {},
     "output_type": "execute_result"
    }
   ],
   "source": [
    "%reset -f\n",
    "%load_ext autoreload\n",
    "%autoreload 2\n",
    "import os\n",
    "os.environ['SYMPY_USE_CACHE'] = 'no'\n",
    "from sympy import *\n",
    "from mechanics import System, S\n",
    "\n",
    "\n",
    "system = (System()\n",
    "    .add_index('n', 1, 2)\n",
    "    .add_coordinate(r'\\theta', index='n', space=S)\n",
    "    .add_constant('m g')\n",
    "    .add_constant('l', index='n')\n",
    "    .define('x y', 'l * cos(theta), l * sin(theta)', ('n', 1))\n",
    "    .define('x y', 'x[1] + l * cos(theta), y[1] + l * sin(theta)', ('n', 2))\n",
    "    .define('T', 'm/2 * (diff(x, t)**2 + diff(y, t)**2)', sum_for='n')\n",
    "    .define('U', 'm * g * y', sum_for='n')\n",
    "    .define('L', 'T - U')\n",
    "    # .euler_lagrange_equation('L')\n",
    "    # .add_constant('N')\n",
    ")\n",
    "system('L')\n",
    "# system.y[2].definition\n",
    "# system('y[2]')\n",
    "# system('x', sum_for='n')"
   ]
  },
  {
   "cell_type": "code",
   "execution_count": 19,
   "metadata": {},
   "outputs": [
    {
     "name": "stdout",
     "output_type": "stream",
     "text": [
      "add dict_keys(['t_0', 't_1', 'm', 'g', 'l', 'N'])\n",
      "diff r ((t, 1),) True True\n",
      "(t,) \\frac{d}{d t} r\n",
      "diff \\theta ((t, 1),) True True\n",
      "(t,) \\frac{d}{d t} \\theta\n",
      "[r*cos(\\theta), r*sin(\\theta), (\\theta**2*r**2 + r**2)*m/2, g*m*y, T - U]\n"
     ]
    },
    {
     "data": {
      "text/plain": [
       "(i,)"
      ]
     },
     "execution_count": 19,
     "metadata": {},
     "output_type": "execute_result"
    }
   ],
   "source": [
    "system_d = (system\n",
    "    .discretize('i', 0, 'N', 'h')\n",
    ")\n",
    "system_d.indices"
   ]
  },
  {
   "cell_type": "code",
   "execution_count": 35,
   "metadata": {},
   "outputs": [
    {
     "data": {
      "text/plain": [
       "()"
      ]
     },
     "execution_count": 35,
     "metadata": {},
     "output_type": "execute_result"
    }
   ],
   "source": [
    "system.base_space_of('g')"
   ]
  },
  {
   "cell_type": "code",
   "execution_count": 10,
   "metadata": {},
   "outputs": [
    {
     "data": {
      "text/latex": [
       "$\\displaystyle N + 1$"
      ],
      "text/plain": [
       "N + 1"
      ]
     },
     "execution_count": 10,
     "metadata": {},
     "output_type": "execute_result"
    }
   ],
   "source": [
    "IndexedBase('N') + 1"
   ]
  },
  {
   "cell_type": "code",
   "execution_count": 53,
   "metadata": {},
   "outputs": [
    {
     "data": {
      "text/latex": [
       "$\\displaystyle \\frac{d}{d t} \\left( r, \\  \\theta\\right)$"
      ],
      "text/plain": [
       "Derivative((r, \\theta), t)"
      ]
     },
     "execution_count": 53,
     "metadata": {},
     "output_type": "execute_result"
    }
   ],
   "source": [
    "diff((system.r, system.theta), system.t)"
   ]
  },
  {
   "cell_type": "code",
   "execution_count": 4,
   "metadata": {},
   "outputs": [
    {
     "data": {
      "text/latex": [
       "$\\displaystyle x^2$"
      ],
      "text/plain": [
       "x**2"
      ]
     },
     "execution_count": 4,
     "metadata": {},
     "output_type": "execute_result"
    }
   ],
   "source": [
    "system('x**2')"
   ]
  },
  {
   "cell_type": "code",
   "execution_count": 30,
   "metadata": {},
   "outputs": [],
   "source": [
    "[2].extend((1,2))"
   ]
  },
  {
   "cell_type": "code",
   "execution_count": 10,
   "metadata": {},
   "outputs": [
    {
     "data": {
      "text/plain": [
       "[2]"
      ]
     },
     "execution_count": 10,
     "metadata": {},
     "output_type": "execute_result"
    }
   ],
   "source": [
    "[1,2,3][1:2]"
   ]
  },
  {
   "cell_type": "code",
   "execution_count": 5,
   "metadata": {},
   "outputs": [
    {
     "data": {
      "text/plain": [
       "2"
      ]
     },
     "execution_count": 5,
     "metadata": {},
     "output_type": "execute_result"
    }
   ],
   "source": [
    "() or 2"
   ]
  },
  {
   "cell_type": "code",
   "execution_count": 5,
   "metadata": {},
   "outputs": [
    {
     "ename": "TypeError",
     "evalue": "'int' object is not iterable",
     "output_type": "error",
     "traceback": [
      "\u001b[0;31m---------------------------------------------------------------------------\u001b[0m",
      "\u001b[0;31mTypeError\u001b[0m                                 Traceback (most recent call last)",
      "Cell \u001b[0;32mIn[5], line 1\u001b[0m\n\u001b[0;32m----> 1\u001b[0m \u001b[38;5;28;43mtuple\u001b[39;49m\u001b[43m(\u001b[49m\u001b[38;5;241;43m1\u001b[39;49m\u001b[43m,\u001b[49m\u001b[43m)\u001b[49m\n",
      "\u001b[0;31mTypeError\u001b[0m: 'int' object is not iterable"
     ]
    }
   ],
   "source": [
    "tuple(1,)"
   ]
  },
  {
   "cell_type": "code",
   "execution_count": null,
   "metadata": {},
   "outputs": [],
   "source": []
  }
 ],
 "metadata": {
  "kernelspec": {
   "display_name": "Python 3",
   "language": "python",
   "name": "python3"
  },
  "language_info": {
   "codemirror_mode": {
    "name": "ipython",
    "version": 3
   },
   "file_extension": ".py",
   "mimetype": "text/x-python",
   "name": "python",
   "nbconvert_exporter": "python",
   "pygments_lexer": "ipython3",
   "version": "3.11.2"
  }
 },
 "nbformat": 4,
 "nbformat_minor": 2
}
