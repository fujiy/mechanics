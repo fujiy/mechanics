{
 "cells": [
  {
   "cell_type": "code",
   "execution_count": null,
   "metadata": {},
   "outputs": [
    {
     "data": {
      "text/latex": [
       "$\\displaystyle Q = S \\ni \\theta_{n}$"
      ],
      "text/plain": [
       "<IPython.core.display.Math object>"
      ]
     },
     "metadata": {},
     "output_type": "display_data"
    },
    {
     "data": {
      "text/latex": [
       "$\\displaystyle \\mathrm{constants}: m, g, l_{n}$"
      ],
      "text/plain": [
       "<IPython.core.display.Math object>"
      ]
     },
     "metadata": {},
     "output_type": "display_data"
    },
    {
     "data": {
      "text/latex": [
       "$\\displaystyle \\mathrm{definitions}:$"
      ],
      "text/plain": [
       "<IPython.core.display.Math object>"
      ]
     },
     "metadata": {},
     "output_type": "display_data"
    },
    {
     "data": {
      "text/latex": [
       "$\\displaystyle x_{n} = \\begin{cases} l_{n} \\cos{\\left(\\theta_{n} \\right)} & \\text{for}\\: n = 1 \\\\l_{n} \\cos{\\left(\\theta_{n} \\right)} + x_{1} & \\text{for}\\: n = 2 \\end{cases}$"
      ],
      "text/plain": [
       "<IPython.core.display.Math object>"
      ]
     },
     "metadata": {},
     "output_type": "display_data"
    },
    {
     "data": {
      "text/latex": [
       "$\\displaystyle y_{n} = \\begin{cases} l_{n} \\sin{\\left(\\theta_{n} \\right)} & \\text{for}\\: n = 1 \\\\l_{n} \\sin{\\left(\\theta_{n} \\right)} + y_{1} & \\text{for}\\: n = 2 \\end{cases}$"
      ],
      "text/plain": [
       "<IPython.core.display.Math object>"
      ]
     },
     "metadata": {},
     "output_type": "display_data"
    },
    {
     "data": {
      "text/latex": [
       "$\\displaystyle T = \\frac{\\left(2 {l_{1}}^2 \\dot{\\theta_{1}}^{2} + 2 l_{1} l_{2} \\cos{\\left(\\theta_{1} - \\theta_{2} \\right)} \\dot{\\theta_{1}} \\dot{\\theta_{2}} + {l_{2}}^2 \\dot{\\theta_{2}}^{2}\\right) m}{2}$"
      ],
      "text/plain": [
       "<IPython.core.display.Math object>"
      ]
     },
     "metadata": {},
     "output_type": "display_data"
    },
    {
     "data": {
      "text/latex": [
       "$\\displaystyle U = \\left(y_{1} + y_{2}\\right) g m$"
      ],
      "text/plain": [
       "<IPython.core.display.Math object>"
      ]
     },
     "metadata": {},
     "output_type": "display_data"
    },
    {
     "data": {
      "text/latex": [
       "$\\displaystyle L = T - U$"
      ],
      "text/plain": [
       "<IPython.core.display.Math object>"
      ]
     },
     "metadata": {},
     "output_type": "display_data"
    },
    {
     "data": {
      "text/latex": [
       "$\\displaystyle E = T + U$"
      ],
      "text/plain": [
       "<IPython.core.display.Math object>"
      ]
     },
     "metadata": {},
     "output_type": "display_data"
    },
    {
     "data": {
      "text/latex": [
       "$\\displaystyle \\mathrm{equations}:$"
      ],
      "text/plain": [
       "<IPython.core.display.Math object>"
      ]
     },
     "metadata": {},
     "output_type": "display_data"
    },
    {
     "data": {
      "text/latex": [
       "$\\displaystyle \\mathrm{EL_0}: - \\left(2 g \\cos{\\left(\\theta_{1} \\right)} + 2 l_{1} \\ddot{\\theta_{1}} + l_{2} \\sin{\\left(\\theta_{1} - \\theta_{2} \\right)} \\dot{\\theta_{2}}^{2} + l_{2} \\cos{\\left(\\theta_{1} - \\theta_{2} \\right)} \\ddot{\\theta_{2}}\\right) l_{1} m = 0$"
      ],
      "text/plain": [
       "<IPython.core.display.Math object>"
      ]
     },
     "metadata": {},
     "output_type": "display_data"
    },
    {
     "data": {
      "text/latex": [
       "$\\displaystyle \\mathrm{EL_1}: \\left(- g \\cos{\\left(\\theta_{2} \\right)} + l_{1} \\sin{\\left(\\theta_{1} - \\theta_{2} \\right)} \\dot{\\theta_{1}}^{2} - l_{1} \\cos{\\left(\\theta_{1} - \\theta_{2} \\right)} \\ddot{\\theta_{1}} - l_{2} \\ddot{\\theta_{2}}\\right) l_{2} m = 0$"
      ],
      "text/plain": [
       "<IPython.core.display.Math object>"
      ]
     },
     "metadata": {},
     "output_type": "display_data"
    },
    {
     "data": {
      "text/plain": [
       "<mechanics.system.LagrangeSystem at 0x1242593d0>"
      ]
     },
     "execution_count": 1,
     "metadata": {},
     "output_type": "execute_result"
    }
   ],
   "source": [
    "%reset -f\n",
    "%load_ext autoreload\n",
    "%autoreload 2\n",
    "from mechanics import LagrangeSystem, S\n",
    "\n",
    "system = (\n",
    "    LagrangeSystem()\n",
    "    .add_index('n', 1, 2)\n",
    "    .add_coordinate(r'\\theta', index='n', space=S)\n",
    "    .add_constant('m g')\n",
    "    .add_constant('l', index='n')\n",
    "    .define('x y', 'l * cos(theta), l * sin(theta)', ('n', 1))\n",
    "    .define('x y', 'x[1] + l * cos(theta), y[1] + l * sin(theta)', ('n', 2))\n",
    "    .define('T', 'm/2 * (diff(x, t)**2 + diff(y, t)**2)', sum_for='n')\n",
    "    .define('U', 'm * g * y', sum_for='n')\n",
    "    .define('L', 'T - U')\n",
    "    .define('E', 'T + U')\n",
    "    .euler_lagrange_equation('L')\n",
    ")\n",
    "system.show_all()"
   ]
  },
  {
   "cell_type": "code",
   "execution_count": 2,
   "metadata": {},
   "outputs": [
    {
     "data": {
      "text/plain": [
       "'- \\\\left(2 l_{1} \\\\sin{\\\\left(\\\\theta_{1} \\\\right)} + l_{2} \\\\sin{\\\\left(\\\\theta_{2} \\\\right)}\\\\right) g m + \\\\frac{\\\\left(2 {l_{1}}^2 \\\\dot{\\\\theta_{1}}^{2} + 2 l_{1} l_{2} \\\\cos{\\\\left(\\\\theta_{1} - \\\\theta_{2} \\\\right)} \\\\dot{\\\\theta_{1}} \\\\dot{\\\\theta_{2}} + {l_{2}}^2 \\\\dot{\\\\theta_{2}}^{2}\\\\right) m}{2}'"
      ]
     },
     "execution_count": 2,
     "metadata": {},
     "output_type": "execute_result"
    }
   ],
   "source": [
    "system.latex(system.eval('L'))"
   ]
  },
  {
   "cell_type": "code",
   "execution_count": 3,
   "metadata": {},
   "outputs": [
    {
     "data": {
      "text/latex": [
       "$\\displaystyle Q = S \\ni \\theta_{n,i}$"
      ],
      "text/plain": [
       "<IPython.core.display.Math object>"
      ]
     },
     "metadata": {},
     "output_type": "display_data"
    },
    {
     "data": {
      "text/latex": [
       "$\\displaystyle \\mathrm{constants}: N, h, m, g, l_{n}$"
      ],
      "text/plain": [
       "<IPython.core.display.Math object>"
      ]
     },
     "metadata": {},
     "output_type": "display_data"
    },
    {
     "data": {
      "text/latex": [
       "$\\displaystyle \\mathrm{variables}: \\dot{\\theta}_{n,i}, \\ddot{\\theta}_{n,i}, {k_{\\dot{\\theta}}}_{n,i}, {k_{\\ddot{\\theta}}}_{n,i}$"
      ],
      "text/plain": [
       "<IPython.core.display.Math object>"
      ]
     },
     "metadata": {},
     "output_type": "display_data"
    },
    {
     "data": {
      "text/latex": [
       "$\\displaystyle \\mathrm{definitions}:$"
      ],
      "text/plain": [
       "<IPython.core.display.Math object>"
      ]
     },
     "metadata": {},
     "output_type": "display_data"
    },
    {
     "data": {
      "text/latex": [
       "$\\displaystyle t_{i} = i h$"
      ],
      "text/plain": [
       "<IPython.core.display.Math object>"
      ]
     },
     "metadata": {},
     "output_type": "display_data"
    },
    {
     "data": {
      "text/latex": [
       "$\\displaystyle x_{n,i} = \\begin{cases} l_{1} \\cos{\\left(\\theta_{1,i} \\right)} & \\text{for}\\: n = 1 \\\\l_{2} \\cos{\\left(\\theta_{2,i} \\right)} + x_{1,i} & \\text{for}\\: n = 2 \\end{cases}$"
      ],
      "text/plain": [
       "<IPython.core.display.Math object>"
      ]
     },
     "metadata": {},
     "output_type": "display_data"
    },
    {
     "data": {
      "text/latex": [
       "$\\displaystyle y_{n,i} = \\begin{cases} l_{1} \\sin{\\left(\\theta_{1,i} \\right)} & \\text{for}\\: n = 1 \\\\l_{2} \\sin{\\left(\\theta_{2,i} \\right)} + y_{1,i} & \\text{for}\\: n = 2 \\end{cases}$"
      ],
      "text/plain": [
       "<IPython.core.display.Math object>"
      ]
     },
     "metadata": {},
     "output_type": "display_data"
    },
    {
     "data": {
      "text/latex": [
       "$\\displaystyle T_{i} = \\frac{\\left(2 {\\dot{\\theta}_{1,i}}^2 {l_{1}}^2 + 2 \\dot{\\theta}_{1,i} \\dot{\\theta}_{2,i} l_{1} l_{2} \\cos{\\left(\\theta_{1,i} - \\theta_{2,i} \\right)} + {\\dot{\\theta}_{2,i}}^2 {l_{2}}^2\\right) m}{2}$"
      ],
      "text/plain": [
       "<IPython.core.display.Math object>"
      ]
     },
     "metadata": {},
     "output_type": "display_data"
    },
    {
     "data": {
      "text/latex": [
       "$\\displaystyle U_{i} = \\left(y_{1,i} + y_{2,i}\\right) g m$"
      ],
      "text/plain": [
       "<IPython.core.display.Math object>"
      ]
     },
     "metadata": {},
     "output_type": "display_data"
    },
    {
     "data": {
      "text/latex": [
       "$\\displaystyle L_{i} = T_{i} - U_{i}$"
      ],
      "text/plain": [
       "<IPython.core.display.Math object>"
      ]
     },
     "metadata": {},
     "output_type": "display_data"
    },
    {
     "data": {
      "text/latex": [
       "$\\displaystyle E_{i} = T_{i} + U_{i}$"
      ],
      "text/plain": [
       "<IPython.core.display.Math object>"
      ]
     },
     "metadata": {},
     "output_type": "display_data"
    },
    {
     "data": {
      "text/latex": [
       "$\\displaystyle \\mathrm{equations}:$"
      ],
      "text/plain": [
       "<IPython.core.display.Math object>"
      ]
     },
     "metadata": {},
     "output_type": "display_data"
    },
    {
     "data": {
      "text/latex": [
       "$\\displaystyle \\mathrm{State_{{k_{\\dot{\\theta}}}}}: \\dot{\\theta}_{n,i} = {k_{\\dot{\\theta}}}_{n,i}$"
      ],
      "text/plain": [
       "<IPython.core.display.Math object>"
      ]
     },
     "metadata": {},
     "output_type": "display_data"
    },
    {
     "data": {
      "text/latex": [
       "$\\displaystyle \\mathrm{{EL_0}_{K}}: - \\left(2 \\ddot{\\theta}_{1,i} l_{1} + \\ddot{\\theta}_{2,i} l_{2} \\cos{\\left(\\theta_{1,i} - \\theta_{2,i} \\right)} + {\\dot{\\theta}_{2,i}}^2 l_{2} \\sin{\\left(\\theta_{1,i} - \\theta_{2,i} \\right)} + 2 g \\cos{\\left(\\theta_{1,i} \\right)}\\right) l_{1} m = 0$"
      ],
      "text/plain": [
       "<IPython.core.display.Math object>"
      ]
     },
     "metadata": {},
     "output_type": "display_data"
    },
    {
     "data": {
      "text/latex": [
       "$\\displaystyle \\mathrm{{EL_1}_{K}}: \\left(- \\ddot{\\theta}_{1,i} l_{1} \\cos{\\left(\\theta_{1,i} - \\theta_{2,i} \\right)} - \\ddot{\\theta}_{2,i} l_{2} + {\\dot{\\theta}_{1,i}}^2 l_{1} \\sin{\\left(\\theta_{1,i} - \\theta_{2,i} \\right)} - g \\cos{\\left(\\theta_{2,i} \\right)}\\right) l_{2} m = 0$"
      ],
      "text/plain": [
       "<IPython.core.display.Math object>"
      ]
     },
     "metadata": {},
     "output_type": "display_data"
    },
    {
     "data": {
      "text/latex": [
       "$\\displaystyle \\mathrm{{Euler}_{\\theta}}: \\theta_{n,i + 1} = \\theta_{n,i} + h {k_{\\dot{\\theta}}}_{n,i}$"
      ],
      "text/plain": [
       "<IPython.core.display.Math object>"
      ]
     },
     "metadata": {},
     "output_type": "display_data"
    },
    {
     "data": {
      "text/latex": [
       "$\\displaystyle \\mathrm{{Euler}_{\\dot{\\theta}}}: \\dot{\\theta}_{n,i + 1} = \\dot{\\theta}_{n,i} + h {k_{\\ddot{\\theta}}}_{n,i}$"
      ],
      "text/plain": [
       "<IPython.core.display.Math object>"
      ]
     },
     "metadata": {},
     "output_type": "display_data"
    },
    {
     "data": {
      "text/plain": [
       "<mechanics.discretization.DiscretizedSystem at 0x111853e10>"
      ]
     },
     "execution_count": 3,
     "metadata": {},
     "output_type": "execute_result"
    }
   ],
   "source": [
    "from mechanics.integrator import Euler\n",
    "system_d = (\n",
    "    system.discretization()\n",
    "    .add_constant('N h')\n",
    "    .uniform_space('t', 'i', 0, 'N', 'h')\n",
    "    .apply(Euler('h'))\n",
    "    .doit()\n",
    ")\n",
    "system_d.show_all()"
   ]
  },
  {
   "cell_type": "code",
   "execution_count": 4,
   "metadata": {},
   "outputs": [
    {
     "name": "stdout",
     "output_type": "stream",
     "text": [
      "Unknowns: [\\dot{\\theta}(2, i), y(n, i), T(i,), E(i,), \\theta(2, i), U(i,), \\ddot{\\theta}(1, i), \\ddot{\\theta}(2, i), x(n, i), \\theta(1, i), \\dot{\\theta}(n, i + 1), {k_{\\ddot{\\theta}}}(n, i), {k_{\\dot{\\theta}}}(n, i), \\theta(n, i + 1), t(i,), L(i,), \\dot{\\theta}(1, i)]\n",
      "Variables: (\\theta(n, i), \\dot{\\theta}(n, i), \\ddot{\\theta}(n, i), {k_{\\dot{\\theta}}}(n, i), {k_{\\ddot{\\theta}}}(n, i), t(i,), x(n, i), y(n, i), T(i,), U(i,), L(i,), E(i,))\n",
      "[(i,), (n, i), (n, i), (i,), (i,), (i,), (i,), (n, i), (i,), (i,), (n, i), (n, i)]\n"
     ]
    },
    {
     "data": {
      "image/png": "[encoded data removed]",
      "text/plain": [
       "<Figure size 500x500 with 1 Axes>"
      ]
     },
     "metadata": {},
     "output_type": "display_data"
    }
   ],
   "source": [
    "solver = system_d.solver()\n",
    "solver.plot_jacobian()"
   ]
  },
  {
   "cell_type": "code",
   "execution_count": null,
   "metadata": {},
   "outputs": [],
   "source": []
  }
 ],
 "metadata": {
  "kernelspec": {
   "display_name": "3.11.2",
   "language": "python",
   "name": "python3"
  },
  "language_info": {
   "codemirror_mode": {
    "name": "ipython",
    "version": 3
   },
   "file_extension": ".py",
   "mimetype": "text/x-python",
   "name": "python",
   "nbconvert_exporter": "python",
   "pygments_lexer": "ipython3",
   "version": "3.11.2"
  }
 },
 "nbformat": 4,
 "nbformat_minor": 2
}
