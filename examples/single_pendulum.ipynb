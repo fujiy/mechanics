{
 "cells": [
  {
   "cell_type": "code",
   "execution_count": 13,
   "metadata": {},
   "outputs": [
    {
     "name": "stdout",
     "output_type": "stream",
     "text": [
      "The autoreload extension is already loaded. To reload it, use:\n",
      "  %reload_ext autoreload\n"
     ]
    },
    {
     "data": {
      "text/latex": [
       "$\\displaystyle Q = S \\ni \\theta$"
      ],
      "text/plain": [
       "<IPython.core.display.Math object>"
      ]
     },
     "metadata": {},
     "output_type": "display_data"
    },
    {
     "data": {
      "text/latex": [
       "$\\displaystyle \\mathrm{Constants}:\\left( m, \\  g, \\  l\\right)$"
      ],
      "text/plain": [
       "<IPython.core.display.Math object>"
      ]
     },
     "metadata": {},
     "output_type": "display_data"
    },
    {
     "data": {
      "text/latex": [
       "$\\displaystyle \\mathrm{Definitions:}$"
      ],
      "text/plain": [
       "<IPython.core.display.Math object>"
      ]
     },
     "metadata": {},
     "output_type": "display_data"
    },
    {
     "data": {
      "text/latex": [
       "$\\displaystyle x = l \\sin{\\left(\\theta \\right)}$"
      ],
      "text/plain": [
       "<IPython.core.display.Math object>"
      ]
     },
     "metadata": {},
     "output_type": "display_data"
    },
    {
     "data": {
      "text/latex": [
       "$\\displaystyle y = - l \\cos{\\left(\\theta \\right)}$"
      ],
      "text/plain": [
       "<IPython.core.display.Math object>"
      ]
     },
     "metadata": {},
     "output_type": "display_data"
    },
    {
     "data": {
      "text/latex": [
       "$\\displaystyle T = \\frac{{l}^2 m \\dot{\\theta}^{2}}{2}$"
      ],
      "text/plain": [
       "<IPython.core.display.Math object>"
      ]
     },
     "metadata": {},
     "output_type": "display_data"
    },
    {
     "data": {
      "text/latex": [
       "$\\displaystyle U = g m y$"
      ],
      "text/plain": [
       "<IPython.core.display.Math object>"
      ]
     },
     "metadata": {},
     "output_type": "display_data"
    },
    {
     "data": {
      "text/latex": [
       "$\\displaystyle L = T - U$"
      ],
      "text/plain": [
       "<IPython.core.display.Math object>"
      ]
     },
     "metadata": {},
     "output_type": "display_data"
    },
    {
     "data": {
      "text/latex": [
       "$\\displaystyle E = T + U$"
      ],
      "text/plain": [
       "<IPython.core.display.Math object>"
      ]
     },
     "metadata": {},
     "output_type": "display_data"
    },
    {
     "data": {
      "text/latex": [
       "$\\displaystyle \\mathrm{Equations}$"
      ],
      "text/plain": [
       "<IPython.core.display.Math object>"
      ]
     },
     "metadata": {},
     "output_type": "display_data"
    },
    {
     "data": {
      "text/latex": [
       "$\\displaystyle EL:- g l m \\sin{\\left(\\theta \\right)} - {l}^2 m \\ddot{\\theta} = 0$"
      ],
      "text/plain": [
       "<IPython.core.display.Math object>"
      ]
     },
     "metadata": {},
     "output_type": "display_data"
    },
    {
     "data": {
      "text/plain": [
       "<mechanics.system.LagrangeSystem at 0x146d84e50>"
      ]
     },
     "execution_count": 13,
     "metadata": {},
     "output_type": "execute_result"
    }
   ],
   "source": [
    "%reset -f\n",
    "%load_ext autoreload\n",
    "%autoreload 2\n",
    "from mechanics import LagrangeSystem, S\n",
    "\n",
    "system = (\n",
    "    LagrangeSystem()\n",
    "    .add_coordinate(r'\\theta', space=S)\n",
    "    .add_constant('m g l')\n",
    "    .define('x y', 'l * sin(theta), - l * cos(theta)')\n",
    "    .define('T', 'm/2 * (dot(x)**2 + dot(y)**2)')\n",
    "    .define('U', 'm * g * y')\n",
    "    .define('L', 'T - U')\n",
    "    .define('E', 'T + U')\n",
    "    .euler_lagrange_equation('L')\n",
    ")\n",
    "system.show_all()"
   ]
  },
  {
   "cell_type": "code",
   "execution_count": 7,
   "metadata": {},
   "outputs": [
    {
     "data": {
      "text/plain": [
       "{}"
      ]
     },
     "execution_count": 7,
     "metadata": {},
     "output_type": "execute_result"
    }
   ],
   "source": [
    "system._equations"
   ]
  },
  {
   "cell_type": "code",
   "execution_count": 16,
   "metadata": {},
   "outputs": [
    {
     "data": {
      "text/latex": [
       "$\\displaystyle Q = S \\ni \\theta_{i}$"
      ],
      "text/plain": [
       "<IPython.core.display.Math object>"
      ]
     },
     "metadata": {},
     "output_type": "display_data"
    },
    {
     "data": {
      "text/latex": [
       "$\\displaystyle \\mathrm{Constants}:\\left( N, \\  h, \\  m, \\  g, \\  l\\right)$"
      ],
      "text/plain": [
       "<IPython.core.display.Math object>"
      ]
     },
     "metadata": {},
     "output_type": "display_data"
    },
    {
     "data": {
      "text/latex": [
       "$\\displaystyle \\mathrm{Variables}:\\left( \\dot{\\theta}_{i}, \\  \\ddot{\\theta}_{i}, \\  {k_{\\dot{\\theta}}}_{i}, \\  {k_{\\ddot{\\theta}}}_{i}\\right)$"
      ],
      "text/plain": [
       "<IPython.core.display.Math object>"
      ]
     },
     "metadata": {},
     "output_type": "display_data"
    },
    {
     "data": {
      "text/latex": [
       "$\\displaystyle \\mathrm{Definitions:}$"
      ],
      "text/plain": [
       "<IPython.core.display.Math object>"
      ]
     },
     "metadata": {},
     "output_type": "display_data"
    },
    {
     "data": {
      "text/latex": [
       "$\\displaystyle t_{i} = i h$"
      ],
      "text/plain": [
       "<IPython.core.display.Math object>"
      ]
     },
     "metadata": {},
     "output_type": "display_data"
    },
    {
     "data": {
      "text/latex": [
       "$\\displaystyle x_{i} = l \\sin{\\left(\\theta_{i} \\right)}$"
      ],
      "text/plain": [
       "<IPython.core.display.Math object>"
      ]
     },
     "metadata": {},
     "output_type": "display_data"
    },
    {
     "data": {
      "text/latex": [
       "$\\displaystyle y_{i} = - l \\cos{\\left(\\theta_{i} \\right)}$"
      ],
      "text/plain": [
       "<IPython.core.display.Math object>"
      ]
     },
     "metadata": {},
     "output_type": "display_data"
    },
    {
     "data": {
      "text/latex": [
       "$\\displaystyle T_{i} = \\frac{{\\dot{\\theta}_{i}}^2 {l}^2 m}{2}$"
      ],
      "text/plain": [
       "<IPython.core.display.Math object>"
      ]
     },
     "metadata": {},
     "output_type": "display_data"
    },
    {
     "data": {
      "text/latex": [
       "$\\displaystyle U_{i} = g m y_{i}$"
      ],
      "text/plain": [
       "<IPython.core.display.Math object>"
      ]
     },
     "metadata": {},
     "output_type": "display_data"
    },
    {
     "data": {
      "text/latex": [
       "$\\displaystyle L_{i} = T_{i} - U_{i}$"
      ],
      "text/plain": [
       "<IPython.core.display.Math object>"
      ]
     },
     "metadata": {},
     "output_type": "display_data"
    },
    {
     "data": {
      "text/latex": [
       "$\\displaystyle E_{i} = T_{i} + U_{i}$"
      ],
      "text/plain": [
       "<IPython.core.display.Math object>"
      ]
     },
     "metadata": {},
     "output_type": "display_data"
    },
    {
     "data": {
      "text/latex": [
       "$\\displaystyle \\mathrm{Equations}$"
      ],
      "text/plain": [
       "<IPython.core.display.Math object>"
      ]
     },
     "metadata": {},
     "output_type": "display_data"
    },
    {
     "data": {
      "text/latex": [
       "$\\displaystyle State_{{k_{\\dot{\\theta}}}}:\\dot{\\theta}_{i} = {k_{\\dot{\\theta}}}_{i}$"
      ],
      "text/plain": [
       "<IPython.core.display.Math object>"
      ]
     },
     "metadata": {},
     "output_type": "display_data"
    },
    {
     "data": {
      "text/latex": [
       "$\\displaystyle {EL}_{K}:- g l m \\sin{\\left(\\theta_{i} \\right)} - {l}^2 m {k_{\\ddot{\\theta}}}_{i} = 0$"
      ],
      "text/plain": [
       "<IPython.core.display.Math object>"
      ]
     },
     "metadata": {},
     "output_type": "display_data"
    },
    {
     "data": {
      "text/latex": [
       "$\\displaystyle {BackwardEuler}_{\\theta}:\\theta_{i + 1} = \\theta_{i} + h {k_{\\dot{\\theta}}}_{i + 1}$"
      ],
      "text/plain": [
       "<IPython.core.display.Math object>"
      ]
     },
     "metadata": {},
     "output_type": "display_data"
    },
    {
     "data": {
      "text/latex": [
       "$\\displaystyle {BackwardEuler}_{\\dot{\\theta}}:\\dot{\\theta}_{i + 1} = \\dot{\\theta}_{i} + h {k_{\\ddot{\\theta}}}_{i + 1}$"
      ],
      "text/plain": [
       "<IPython.core.display.Math object>"
      ]
     },
     "metadata": {},
     "output_type": "display_data"
    },
    {
     "data": {
      "text/plain": [
       "<mechanics.discretization.DiscretizedSystem at 0x127c1a150>"
      ]
     },
     "execution_count": 16,
     "metadata": {},
     "output_type": "execute_result"
    }
   ],
   "source": [
    "from mechanics.integrator import *\n",
    "system_d = (\n",
    "    system.discretization()\n",
    "    .add_constant('N h')\n",
    "    .uniform_space('t', 'i', 0, 'N', 'h')\n",
    "    .apply(BackwardEuler('h'))\n",
    "    .doit()\n",
    ")\n",
    "system_d.show_all()"
   ]
  },
  {
   "cell_type": "code",
   "execution_count": 153,
   "metadata": {},
   "outputs": [
    {
     "data": {
      "text/latex": [
       "$\\displaystyle \\mathrm{Unknowns}:\\left( {k_{\\dot{\\theta}}}_{i}, \\  {k_{\\ddot{\\theta}}}_{i + 1}, \\  {k_{\\ddot{\\theta}}}_{i}, \\  \\dot{\\theta}_{i + 1}, \\  {k_{\\dot{\\theta}}}_{i + 1}, \\  \\theta_{i + 1}\\right)$"
      ],
      "text/plain": [
       "<IPython.core.display.Math object>"
      ]
     },
     "metadata": {},
     "output_type": "display_data"
    },
    {
     "name": "stdout",
     "output_type": "stream",
     "text": [
      "Equations: 4, unknowns: 6, definitions: 7\n",
      "Jacobian: [(0, 0), (1, 2), (2, 4), (2, 5), (3, 1), (3, 3)]\n",
      "def definitions_generated(N, h, m, g, l, i, theta, dottheta, ddottheta, k_dottheta, k_ddottheta, t, x, y, T, U, L, E):\n",
      "  t[i] = i*h  # {BackwardEuler}_{\\dot{\\theta}} \n",
      "  x[i] = l*numpy.sin(theta[i])  # {BackwardEuler}_{\\dot{\\theta}} \n",
      "  y[i] = -l*numpy.cos(theta[i])  # {BackwardEuler}_{\\dot{\\theta}} \n",
      "  T[i] = (1/2)*dottheta[i]**2*l**2*m  # {BackwardEuler}_{\\dot{\\theta}} \n",
      "  U[i] = g*m*y[i]  # {BackwardEuler}_{\\dot{\\theta}} \n",
      "  L[i] = T[i] - U[i]  # {BackwardEuler}_{\\dot{\\theta}} \n",
      "  E[i] = T[i] + U[i]  # {BackwardEuler}_{\\dot{\\theta}} \n",
      "  pass\n",
      "\n",
      "def equations_generated(N, h, m, g, l, i, theta, dottheta, ddottheta, k_dottheta, k_ddottheta, _):\n",
      "  _[0] = dottheta[i] - k_dottheta[i]  # State_{{k_{\\dot{\\theta}}}} \n",
      "  _[1] = -g*l*m*numpy.sin(theta[i]) - l**2*m*k_ddottheta[i]  # {EL}_{K} \n",
      "  _[2] = -theta[i] + theta[i + 1] - h*k_dottheta[i + 1]  # {BackwardEuler}_{\\theta} \n",
      "  _[3] = -dottheta[i] + dottheta[i + 1] - h*k_ddottheta[i + 1]  # {BackwardEuler}_{\\dot{\\theta}} \n",
      "\n",
      "def jacobian_generated(N, h, m, g, l, i, theta, dottheta, ddottheta, k_dottheta, k_ddottheta, _):\n",
      "  pass\n",
      "\n",
      "def jacobian_initial(N, h, m, g, l, _):\n",
      "  _[0] = -1\n",
      "  _[1] = -l**2*m\n",
      "  _[2] = -h\n",
      "  _[3] = 1\n",
      "  _[4] = -h\n",
      "  _[5] = 1\n",
      "  pass\n",
      "\n",
      "def setter_generated(N, h, m, g, l, i, theta, dottheta, ddottheta, k_dottheta, k_ddottheta, _):\n",
      "  k_dottheta[i] = _[0]\n",
      "  k_ddottheta[i + 1] = _[1]\n",
      "  k_ddottheta[i] = _[2]\n",
      "  dottheta[i + 1] = _[3]\n",
      "  k_dottheta[i + 1] = _[4]\n",
      "  theta[i + 1] = _[5]\n",
      "\n"
     ]
    },
    {
     "data": {
      "image/png": "[encoded data removed]",
      "text/plain": [
       "<Figure size 500x500 with 1 Axes>"
      ]
     },
     "metadata": {},
     "output_type": "display_data"
    },
    {
     "data": {
      "text/latex": [
       "$\\displaystyle \\mathrm{Jacobian}:\\left[\\begin{matrix}-1 & 0 & 0 & 0 & 0 & 0\\\\0 & 0 & - {l}^2 m & 0 & 0 & 0\\\\0 & 0 & 0 & 0 & - h & 1\\\\0 & - h & 0 & 1 & 0 & 0\\end{matrix}\\right]$"
      ],
      "text/plain": [
       "<IPython.core.display.Math object>"
      ]
     },
     "metadata": {},
     "output_type": "display_data"
    }
   ],
   "source": [
    "solver = system_d.solver()\n",
    "solver.plot_jacobian()\n",
    "solver.print_jacobian()"
   ]
  },
  {
   "cell_type": "code",
   "execution_count": 135,
   "metadata": {},
   "outputs": [
    {
     "name": "stdout",
     "output_type": "stream",
     "text": [
      "i = 0, ..., 1000\n"
     ]
    },
    {
     "name": "stderr",
     "output_type": "stream",
     "text": [
      "100%|██████████| 1001/1001 [00:00<00:00, 9632.12it/s]\n"
     ]
    }
   ],
   "source": [
    "import numpy as np\n",
    "result = solver.run({\n",
    "    'l': 1,\n",
    "    'm': 1,\n",
    "    'g': 1,\n",
    "    'N': 1000,\n",
    "    'h': 0.1,\n",
    "    'theta': np.pi/4,\n",
    "    'dottheta': 0,\n",
    "})\n",
    "# result.newton_converged_iters"
   ]
  },
  {
   "cell_type": "code",
   "execution_count": 136,
   "metadata": {},
   "outputs": [
    {
     "data": {
      "text/plain": [
       "[<matplotlib.lines.Line2D at 0x33a53abd0>]"
      ]
     },
     "execution_count": 136,
     "metadata": {},
     "output_type": "execute_result"
    },
    {
     "data": {
      "image/png": "[encoded data removed]",
      "text/plain": [
       "<Figure size 800x800 with 4 Axes>"
      ]
     },
     "metadata": {},
     "output_type": "display_data"
    }
   ],
   "source": [
    "import matplotlib.pyplot as plt\n",
    "\n",
    "fig, axes = plt.subplots(2, 2, figsize=(8, 8), layout='tight', subplot_kw={'projection': result})\n",
    "axes = axes.flatten()\n",
    "\n",
    "axes[0].plot('theta')\n",
    "axes[1].plot('dottheta')\n",
    "axes[2].plot('theta', 'dottheta')\n",
    "axes[3].plot('E')"
   ]
  },
  {
   "cell_type": "code",
   "execution_count": null,
   "metadata": {},
   "outputs": [],
   "source": []
  }
 ],
 "metadata": {
  "kernelspec": {
   "display_name": "3.11.2",
   "language": "python",
   "name": "python3"
  },
  "language_info": {
   "codemirror_mode": {
    "name": "ipython",
    "version": 3
   },
   "file_extension": ".py",
   "mimetype": "text/x-python",
   "name": "python",
   "nbconvert_exporter": "python",
   "pygments_lexer": "ipython3",
   "version": "3.11.2"
  }
 },
 "nbformat": 4,
 "nbformat_minor": 2
}
